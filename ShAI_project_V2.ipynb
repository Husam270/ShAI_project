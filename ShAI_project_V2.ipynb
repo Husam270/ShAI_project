{
  "nbformat": 4,
  "nbformat_minor": 0,
  "metadata": {
    "colab": {
      "name": "ShAI_project_V2.ipynb",
      "provenance": [],
      "collapsed_sections": []
    },
    "kernelspec": {
      "name": "python3",
      "display_name": "Python 3"
    },
    "language_info": {
      "name": "python"
    }
  },
  "cells": [
    {
      "cell_type": "markdown",
      "metadata": {
        "id": "ZII3DZ4eJ2Ac"
      },
      "source": [
        "Imports here "
      ]
    },
    {
      "cell_type": "code",
      "metadata": {
        "id": "x1fx4oQGGT0O"
      },
      "source": [
        "import numpy as np \n",
        "import pandas as pd\n",
        "import seaborn as sns\n",
        "import matplotlib.pyplot as plt"
      ],
      "execution_count": null,
      "outputs": []
    },
    {
      "cell_type": "code",
      "metadata": {
        "id": "dq-uBqoALr7x",
        "colab": {
          "base_uri": "https://localhost:8080/",
          "height": 419
        },
        "outputId": "79d513f8-9849-4afa-ffd8-fbde5dc397e7"
      },
      "source": [
        "diamonds = pd.read_csv('/content/diamonds[1].csv', usecols=range(1, 11)) \n",
        "#index is redundant so we skip the first column when reading \n",
        "diamonds "
      ],
      "execution_count": null,
      "outputs": [
        {
          "output_type": "execute_result",
          "data": {
            "text/html": [
              "<div>\n",
              "<style scoped>\n",
              "    .dataframe tbody tr th:only-of-type {\n",
              "        vertical-align: middle;\n",
              "    }\n",
              "\n",
              "    .dataframe tbody tr th {\n",
              "        vertical-align: top;\n",
              "    }\n",
              "\n",
              "    .dataframe thead th {\n",
              "        text-align: right;\n",
              "    }\n",
              "</style>\n",
              "<table border=\"1\" class=\"dataframe\">\n",
              "  <thead>\n",
              "    <tr style=\"text-align: right;\">\n",
              "      <th></th>\n",
              "      <th>carat</th>\n",
              "      <th>cut</th>\n",
              "      <th>color</th>\n",
              "      <th>clarity</th>\n",
              "      <th>depth</th>\n",
              "      <th>table</th>\n",
              "      <th>price</th>\n",
              "      <th>x</th>\n",
              "      <th>y</th>\n",
              "      <th>z</th>\n",
              "    </tr>\n",
              "  </thead>\n",
              "  <tbody>\n",
              "    <tr>\n",
              "      <th>0</th>\n",
              "      <td>0.23</td>\n",
              "      <td>Ideal</td>\n",
              "      <td>E</td>\n",
              "      <td>SI2</td>\n",
              "      <td>61.5</td>\n",
              "      <td>55.0</td>\n",
              "      <td>326</td>\n",
              "      <td>3.95</td>\n",
              "      <td>3.98</td>\n",
              "      <td>2.43</td>\n",
              "    </tr>\n",
              "    <tr>\n",
              "      <th>1</th>\n",
              "      <td>0.21</td>\n",
              "      <td>Premium</td>\n",
              "      <td>E</td>\n",
              "      <td>SI1</td>\n",
              "      <td>59.8</td>\n",
              "      <td>61.0</td>\n",
              "      <td>326</td>\n",
              "      <td>3.89</td>\n",
              "      <td>3.84</td>\n",
              "      <td>2.31</td>\n",
              "    </tr>\n",
              "    <tr>\n",
              "      <th>2</th>\n",
              "      <td>0.23</td>\n",
              "      <td>Good</td>\n",
              "      <td>E</td>\n",
              "      <td>VS1</td>\n",
              "      <td>56.9</td>\n",
              "      <td>65.0</td>\n",
              "      <td>327</td>\n",
              "      <td>4.05</td>\n",
              "      <td>4.07</td>\n",
              "      <td>2.31</td>\n",
              "    </tr>\n",
              "    <tr>\n",
              "      <th>3</th>\n",
              "      <td>0.29</td>\n",
              "      <td>Premium</td>\n",
              "      <td>I</td>\n",
              "      <td>VS2</td>\n",
              "      <td>62.4</td>\n",
              "      <td>58.0</td>\n",
              "      <td>334</td>\n",
              "      <td>4.20</td>\n",
              "      <td>4.23</td>\n",
              "      <td>2.63</td>\n",
              "    </tr>\n",
              "    <tr>\n",
              "      <th>4</th>\n",
              "      <td>0.31</td>\n",
              "      <td>Good</td>\n",
              "      <td>J</td>\n",
              "      <td>SI2</td>\n",
              "      <td>63.3</td>\n",
              "      <td>58.0</td>\n",
              "      <td>335</td>\n",
              "      <td>4.34</td>\n",
              "      <td>4.35</td>\n",
              "      <td>2.75</td>\n",
              "    </tr>\n",
              "    <tr>\n",
              "      <th>...</th>\n",
              "      <td>...</td>\n",
              "      <td>...</td>\n",
              "      <td>...</td>\n",
              "      <td>...</td>\n",
              "      <td>...</td>\n",
              "      <td>...</td>\n",
              "      <td>...</td>\n",
              "      <td>...</td>\n",
              "      <td>...</td>\n",
              "      <td>...</td>\n",
              "    </tr>\n",
              "    <tr>\n",
              "      <th>53935</th>\n",
              "      <td>0.72</td>\n",
              "      <td>Ideal</td>\n",
              "      <td>D</td>\n",
              "      <td>SI1</td>\n",
              "      <td>60.8</td>\n",
              "      <td>57.0</td>\n",
              "      <td>2757</td>\n",
              "      <td>5.75</td>\n",
              "      <td>5.76</td>\n",
              "      <td>3.50</td>\n",
              "    </tr>\n",
              "    <tr>\n",
              "      <th>53936</th>\n",
              "      <td>0.72</td>\n",
              "      <td>Good</td>\n",
              "      <td>D</td>\n",
              "      <td>SI1</td>\n",
              "      <td>63.1</td>\n",
              "      <td>55.0</td>\n",
              "      <td>2757</td>\n",
              "      <td>5.69</td>\n",
              "      <td>5.75</td>\n",
              "      <td>3.61</td>\n",
              "    </tr>\n",
              "    <tr>\n",
              "      <th>53937</th>\n",
              "      <td>0.70</td>\n",
              "      <td>Very Good</td>\n",
              "      <td>D</td>\n",
              "      <td>SI1</td>\n",
              "      <td>62.8</td>\n",
              "      <td>60.0</td>\n",
              "      <td>2757</td>\n",
              "      <td>5.66</td>\n",
              "      <td>5.68</td>\n",
              "      <td>3.56</td>\n",
              "    </tr>\n",
              "    <tr>\n",
              "      <th>53938</th>\n",
              "      <td>0.86</td>\n",
              "      <td>Premium</td>\n",
              "      <td>H</td>\n",
              "      <td>SI2</td>\n",
              "      <td>61.0</td>\n",
              "      <td>58.0</td>\n",
              "      <td>2757</td>\n",
              "      <td>6.15</td>\n",
              "      <td>6.12</td>\n",
              "      <td>3.74</td>\n",
              "    </tr>\n",
              "    <tr>\n",
              "      <th>53939</th>\n",
              "      <td>0.75</td>\n",
              "      <td>Ideal</td>\n",
              "      <td>D</td>\n",
              "      <td>SI2</td>\n",
              "      <td>62.2</td>\n",
              "      <td>55.0</td>\n",
              "      <td>2757</td>\n",
              "      <td>5.83</td>\n",
              "      <td>5.87</td>\n",
              "      <td>3.64</td>\n",
              "    </tr>\n",
              "  </tbody>\n",
              "</table>\n",
              "<p>53940 rows × 10 columns</p>\n",
              "</div>"
            ],
            "text/plain": [
              "       carat        cut color clarity  depth  table  price     x     y     z\n",
              "0       0.23      Ideal     E     SI2   61.5   55.0    326  3.95  3.98  2.43\n",
              "1       0.21    Premium     E     SI1   59.8   61.0    326  3.89  3.84  2.31\n",
              "2       0.23       Good     E     VS1   56.9   65.0    327  4.05  4.07  2.31\n",
              "3       0.29    Premium     I     VS2   62.4   58.0    334  4.20  4.23  2.63\n",
              "4       0.31       Good     J     SI2   63.3   58.0    335  4.34  4.35  2.75\n",
              "...      ...        ...   ...     ...    ...    ...    ...   ...   ...   ...\n",
              "53935   0.72      Ideal     D     SI1   60.8   57.0   2757  5.75  5.76  3.50\n",
              "53936   0.72       Good     D     SI1   63.1   55.0   2757  5.69  5.75  3.61\n",
              "53937   0.70  Very Good     D     SI1   62.8   60.0   2757  5.66  5.68  3.56\n",
              "53938   0.86    Premium     H     SI2   61.0   58.0   2757  6.15  6.12  3.74\n",
              "53939   0.75      Ideal     D     SI2   62.2   55.0   2757  5.83  5.87  3.64\n",
              "\n",
              "[53940 rows x 10 columns]"
            ]
          },
          "metadata": {},
          "execution_count": 2
        }
      ]
    },
    {
      "cell_type": "code",
      "metadata": {
        "id": "34_DR2XbLscH",
        "colab": {
          "base_uri": "https://localhost:8080/"
        },
        "outputId": "26ddf042-b0d0-4242-db09-de05f7611ba1"
      },
      "source": [
        "diamonds.info()"
      ],
      "execution_count": null,
      "outputs": [
        {
          "output_type": "stream",
          "text": [
            "<class 'pandas.core.frame.DataFrame'>\n",
            "RangeIndex: 53940 entries, 0 to 53939\n",
            "Data columns (total 10 columns):\n",
            " #   Column   Non-Null Count  Dtype  \n",
            "---  ------   --------------  -----  \n",
            " 0   carat    53940 non-null  float64\n",
            " 1   cut      53940 non-null  object \n",
            " 2   color    53940 non-null  object \n",
            " 3   clarity  53940 non-null  object \n",
            " 4   depth    53940 non-null  float64\n",
            " 5   table    53940 non-null  float64\n",
            " 6   price    53940 non-null  int64  \n",
            " 7   x        53940 non-null  float64\n",
            " 8   y        53940 non-null  float64\n",
            " 9   z        53940 non-null  float64\n",
            "dtypes: float64(6), int64(1), object(3)\n",
            "memory usage: 4.1+ MB\n"
          ],
          "name": "stdout"
        }
      ]
    },
    {
      "cell_type": "code",
      "metadata": {
        "colab": {
          "base_uri": "https://localhost:8080/"
        },
        "id": "CI6ZlYOtN_cP",
        "outputId": "bd020901-382f-45c1-aa17-cc178e4bb88b"
      },
      "source": [
        "diamonds.isna().sum()"
      ],
      "execution_count": null,
      "outputs": [
        {
          "output_type": "execute_result",
          "data": {
            "text/plain": [
              "carat      0\n",
              "cut        0\n",
              "color      0\n",
              "clarity    0\n",
              "depth      0\n",
              "table      0\n",
              "price      0\n",
              "x          0\n",
              "y          0\n",
              "z          0\n",
              "dtype: int64"
            ]
          },
          "metadata": {},
          "execution_count": 4
        }
      ]
    },
    {
      "cell_type": "code",
      "metadata": {
        "id": "mUGxbr2Bwq06",
        "colab": {
          "base_uri": "https://localhost:8080/",
          "height": 297
        },
        "outputId": "002fd0d7-4225-481c-e4e8-511b49ca2174"
      },
      "source": [
        "diamonds.describe()"
      ],
      "execution_count": null,
      "outputs": [
        {
          "output_type": "execute_result",
          "data": {
            "text/html": [
              "<div>\n",
              "<style scoped>\n",
              "    .dataframe tbody tr th:only-of-type {\n",
              "        vertical-align: middle;\n",
              "    }\n",
              "\n",
              "    .dataframe tbody tr th {\n",
              "        vertical-align: top;\n",
              "    }\n",
              "\n",
              "    .dataframe thead th {\n",
              "        text-align: right;\n",
              "    }\n",
              "</style>\n",
              "<table border=\"1\" class=\"dataframe\">\n",
              "  <thead>\n",
              "    <tr style=\"text-align: right;\">\n",
              "      <th></th>\n",
              "      <th>carat</th>\n",
              "      <th>depth</th>\n",
              "      <th>table</th>\n",
              "      <th>price</th>\n",
              "      <th>x</th>\n",
              "      <th>y</th>\n",
              "      <th>z</th>\n",
              "    </tr>\n",
              "  </thead>\n",
              "  <tbody>\n",
              "    <tr>\n",
              "      <th>count</th>\n",
              "      <td>53940.000000</td>\n",
              "      <td>53940.000000</td>\n",
              "      <td>53940.000000</td>\n",
              "      <td>53940.000000</td>\n",
              "      <td>53940.000000</td>\n",
              "      <td>53940.000000</td>\n",
              "      <td>53940.000000</td>\n",
              "    </tr>\n",
              "    <tr>\n",
              "      <th>mean</th>\n",
              "      <td>0.797940</td>\n",
              "      <td>61.749405</td>\n",
              "      <td>57.457184</td>\n",
              "      <td>3932.799722</td>\n",
              "      <td>5.731157</td>\n",
              "      <td>5.734526</td>\n",
              "      <td>3.538734</td>\n",
              "    </tr>\n",
              "    <tr>\n",
              "      <th>std</th>\n",
              "      <td>0.474011</td>\n",
              "      <td>1.432621</td>\n",
              "      <td>2.234491</td>\n",
              "      <td>3989.439738</td>\n",
              "      <td>1.121761</td>\n",
              "      <td>1.142135</td>\n",
              "      <td>0.705699</td>\n",
              "    </tr>\n",
              "    <tr>\n",
              "      <th>min</th>\n",
              "      <td>0.200000</td>\n",
              "      <td>43.000000</td>\n",
              "      <td>43.000000</td>\n",
              "      <td>326.000000</td>\n",
              "      <td>0.000000</td>\n",
              "      <td>0.000000</td>\n",
              "      <td>0.000000</td>\n",
              "    </tr>\n",
              "    <tr>\n",
              "      <th>25%</th>\n",
              "      <td>0.400000</td>\n",
              "      <td>61.000000</td>\n",
              "      <td>56.000000</td>\n",
              "      <td>950.000000</td>\n",
              "      <td>4.710000</td>\n",
              "      <td>4.720000</td>\n",
              "      <td>2.910000</td>\n",
              "    </tr>\n",
              "    <tr>\n",
              "      <th>50%</th>\n",
              "      <td>0.700000</td>\n",
              "      <td>61.800000</td>\n",
              "      <td>57.000000</td>\n",
              "      <td>2401.000000</td>\n",
              "      <td>5.700000</td>\n",
              "      <td>5.710000</td>\n",
              "      <td>3.530000</td>\n",
              "    </tr>\n",
              "    <tr>\n",
              "      <th>75%</th>\n",
              "      <td>1.040000</td>\n",
              "      <td>62.500000</td>\n",
              "      <td>59.000000</td>\n",
              "      <td>5324.250000</td>\n",
              "      <td>6.540000</td>\n",
              "      <td>6.540000</td>\n",
              "      <td>4.040000</td>\n",
              "    </tr>\n",
              "    <tr>\n",
              "      <th>max</th>\n",
              "      <td>5.010000</td>\n",
              "      <td>79.000000</td>\n",
              "      <td>95.000000</td>\n",
              "      <td>18823.000000</td>\n",
              "      <td>10.740000</td>\n",
              "      <td>58.900000</td>\n",
              "      <td>31.800000</td>\n",
              "    </tr>\n",
              "  </tbody>\n",
              "</table>\n",
              "</div>"
            ],
            "text/plain": [
              "              carat         depth  ...             y             z\n",
              "count  53940.000000  53940.000000  ...  53940.000000  53940.000000\n",
              "mean       0.797940     61.749405  ...      5.734526      3.538734\n",
              "std        0.474011      1.432621  ...      1.142135      0.705699\n",
              "min        0.200000     43.000000  ...      0.000000      0.000000\n",
              "25%        0.400000     61.000000  ...      4.720000      2.910000\n",
              "50%        0.700000     61.800000  ...      5.710000      3.530000\n",
              "75%        1.040000     62.500000  ...      6.540000      4.040000\n",
              "max        5.010000     79.000000  ...     58.900000     31.800000\n",
              "\n",
              "[8 rows x 7 columns]"
            ]
          },
          "metadata": {},
          "execution_count": 5
        }
      ]
    },
    {
      "cell_type": "code",
      "metadata": {
        "colab": {
          "base_uri": "https://localhost:8080/"
        },
        "id": "KJk5k98gtrVF",
        "outputId": "42074995-4883-4734-e116-b7e12f1ed242"
      },
      "source": [
        "diamonds[\"color\"].value_counts()"
      ],
      "execution_count": null,
      "outputs": [
        {
          "output_type": "execute_result",
          "data": {
            "text/plain": [
              "G    11292\n",
              "E     9797\n",
              "F     9542\n",
              "H     8304\n",
              "D     6775\n",
              "I     5422\n",
              "J     2808\n",
              "Name: color, dtype: int64"
            ]
          },
          "metadata": {},
          "execution_count": 6
        }
      ]
    },
    {
      "cell_type": "code",
      "metadata": {
        "colab": {
          "base_uri": "https://localhost:8080/",
          "height": 297
        },
        "id": "TVZmGVaxt9FN",
        "outputId": "6d258d59-9a25-4f8f-c5df-c328480fc0dd"
      },
      "source": [
        "diamonds.groupby([\"color\"]).mean()"
      ],
      "execution_count": null,
      "outputs": [
        {
          "output_type": "execute_result",
          "data": {
            "text/html": [
              "<div>\n",
              "<style scoped>\n",
              "    .dataframe tbody tr th:only-of-type {\n",
              "        vertical-align: middle;\n",
              "    }\n",
              "\n",
              "    .dataframe tbody tr th {\n",
              "        vertical-align: top;\n",
              "    }\n",
              "\n",
              "    .dataframe thead th {\n",
              "        text-align: right;\n",
              "    }\n",
              "</style>\n",
              "<table border=\"1\" class=\"dataframe\">\n",
              "  <thead>\n",
              "    <tr style=\"text-align: right;\">\n",
              "      <th></th>\n",
              "      <th>carat</th>\n",
              "      <th>depth</th>\n",
              "      <th>table</th>\n",
              "      <th>price</th>\n",
              "      <th>x</th>\n",
              "      <th>y</th>\n",
              "      <th>z</th>\n",
              "    </tr>\n",
              "    <tr>\n",
              "      <th>color</th>\n",
              "      <th></th>\n",
              "      <th></th>\n",
              "      <th></th>\n",
              "      <th></th>\n",
              "      <th></th>\n",
              "      <th></th>\n",
              "      <th></th>\n",
              "    </tr>\n",
              "  </thead>\n",
              "  <tbody>\n",
              "    <tr>\n",
              "      <th>D</th>\n",
              "      <td>0.657795</td>\n",
              "      <td>61.698125</td>\n",
              "      <td>57.404590</td>\n",
              "      <td>3169.954096</td>\n",
              "      <td>5.417051</td>\n",
              "      <td>5.421128</td>\n",
              "      <td>3.342827</td>\n",
              "    </tr>\n",
              "    <tr>\n",
              "      <th>E</th>\n",
              "      <td>0.657867</td>\n",
              "      <td>61.662090</td>\n",
              "      <td>57.491201</td>\n",
              "      <td>3076.752475</td>\n",
              "      <td>5.411580</td>\n",
              "      <td>5.419029</td>\n",
              "      <td>3.340689</td>\n",
              "    </tr>\n",
              "    <tr>\n",
              "      <th>F</th>\n",
              "      <td>0.736538</td>\n",
              "      <td>61.694582</td>\n",
              "      <td>57.433536</td>\n",
              "      <td>3724.886397</td>\n",
              "      <td>5.614961</td>\n",
              "      <td>5.619456</td>\n",
              "      <td>3.464446</td>\n",
              "    </tr>\n",
              "    <tr>\n",
              "      <th>G</th>\n",
              "      <td>0.771190</td>\n",
              "      <td>61.757111</td>\n",
              "      <td>57.288629</td>\n",
              "      <td>3999.135671</td>\n",
              "      <td>5.677543</td>\n",
              "      <td>5.680192</td>\n",
              "      <td>3.505021</td>\n",
              "    </tr>\n",
              "    <tr>\n",
              "      <th>H</th>\n",
              "      <td>0.911799</td>\n",
              "      <td>61.836850</td>\n",
              "      <td>57.517811</td>\n",
              "      <td>4486.669196</td>\n",
              "      <td>5.983335</td>\n",
              "      <td>5.984815</td>\n",
              "      <td>3.695965</td>\n",
              "    </tr>\n",
              "    <tr>\n",
              "      <th>I</th>\n",
              "      <td>1.026927</td>\n",
              "      <td>61.846385</td>\n",
              "      <td>57.577278</td>\n",
              "      <td>5091.874954</td>\n",
              "      <td>6.222826</td>\n",
              "      <td>6.222730</td>\n",
              "      <td>3.845411</td>\n",
              "    </tr>\n",
              "    <tr>\n",
              "      <th>J</th>\n",
              "      <td>1.162137</td>\n",
              "      <td>61.887215</td>\n",
              "      <td>57.812393</td>\n",
              "      <td>5323.818020</td>\n",
              "      <td>6.519338</td>\n",
              "      <td>6.518105</td>\n",
              "      <td>4.033251</td>\n",
              "    </tr>\n",
              "  </tbody>\n",
              "</table>\n",
              "</div>"
            ],
            "text/plain": [
              "          carat      depth      table  ...         x         y         z\n",
              "color                                  ...                              \n",
              "D      0.657795  61.698125  57.404590  ...  5.417051  5.421128  3.342827\n",
              "E      0.657867  61.662090  57.491201  ...  5.411580  5.419029  3.340689\n",
              "F      0.736538  61.694582  57.433536  ...  5.614961  5.619456  3.464446\n",
              "G      0.771190  61.757111  57.288629  ...  5.677543  5.680192  3.505021\n",
              "H      0.911799  61.836850  57.517811  ...  5.983335  5.984815  3.695965\n",
              "I      1.026927  61.846385  57.577278  ...  6.222826  6.222730  3.845411\n",
              "J      1.162137  61.887215  57.812393  ...  6.519338  6.518105  4.033251\n",
              "\n",
              "[7 rows x 7 columns]"
            ]
          },
          "metadata": {},
          "execution_count": 7
        }
      ]
    },
    {
      "cell_type": "markdown",
      "metadata": {
        "id": "w_V7UixbaN5O"
      },
      "source": [
        ""
      ]
    },
    {
      "cell_type": "code",
      "metadata": {
        "colab": {
          "base_uri": "https://localhost:8080/"
        },
        "id": "vUTl3Ke0t06E",
        "outputId": "ddad08de-df17-489f-f96f-e38b08edecff"
      },
      "source": [
        "diamonds[\"clarity\"].value_counts()"
      ],
      "execution_count": null,
      "outputs": [
        {
          "output_type": "execute_result",
          "data": {
            "text/plain": [
              "SI1     13065\n",
              "VS2     12258\n",
              "SI2      9194\n",
              "VS1      8171\n",
              "VVS2     5066\n",
              "VVS1     3655\n",
              "IF       1790\n",
              "I1        741\n",
              "Name: clarity, dtype: int64"
            ]
          },
          "metadata": {},
          "execution_count": 8
        }
      ]
    },
    {
      "cell_type": "code",
      "metadata": {
        "colab": {
          "base_uri": "https://localhost:8080/",
          "height": 328
        },
        "id": "rebM-sIAuOfr",
        "outputId": "5199e9b2-ef2c-430d-ad6d-fa97113fa7f8"
      },
      "source": [
        "diamonds.groupby([\"clarity\"]).mean()"
      ],
      "execution_count": null,
      "outputs": [
        {
          "output_type": "execute_result",
          "data": {
            "text/html": [
              "<div>\n",
              "<style scoped>\n",
              "    .dataframe tbody tr th:only-of-type {\n",
              "        vertical-align: middle;\n",
              "    }\n",
              "\n",
              "    .dataframe tbody tr th {\n",
              "        vertical-align: top;\n",
              "    }\n",
              "\n",
              "    .dataframe thead th {\n",
              "        text-align: right;\n",
              "    }\n",
              "</style>\n",
              "<table border=\"1\" class=\"dataframe\">\n",
              "  <thead>\n",
              "    <tr style=\"text-align: right;\">\n",
              "      <th></th>\n",
              "      <th>carat</th>\n",
              "      <th>depth</th>\n",
              "      <th>table</th>\n",
              "      <th>price</th>\n",
              "      <th>x</th>\n",
              "      <th>y</th>\n",
              "      <th>z</th>\n",
              "    </tr>\n",
              "    <tr>\n",
              "      <th>clarity</th>\n",
              "      <th></th>\n",
              "      <th></th>\n",
              "      <th></th>\n",
              "      <th></th>\n",
              "      <th></th>\n",
              "      <th></th>\n",
              "      <th></th>\n",
              "    </tr>\n",
              "  </thead>\n",
              "  <tbody>\n",
              "    <tr>\n",
              "      <th>I1</th>\n",
              "      <td>1.283846</td>\n",
              "      <td>62.734278</td>\n",
              "      <td>58.303779</td>\n",
              "      <td>3924.168691</td>\n",
              "      <td>6.761093</td>\n",
              "      <td>6.709379</td>\n",
              "      <td>4.207908</td>\n",
              "    </tr>\n",
              "    <tr>\n",
              "      <th>IF</th>\n",
              "      <td>0.505123</td>\n",
              "      <td>61.510615</td>\n",
              "      <td>56.507207</td>\n",
              "      <td>2864.839106</td>\n",
              "      <td>4.968402</td>\n",
              "      <td>4.989827</td>\n",
              "      <td>3.061659</td>\n",
              "    </tr>\n",
              "    <tr>\n",
              "      <th>SI1</th>\n",
              "      <td>0.850482</td>\n",
              "      <td>61.853042</td>\n",
              "      <td>57.662541</td>\n",
              "      <td>3996.001148</td>\n",
              "      <td>5.888383</td>\n",
              "      <td>5.888256</td>\n",
              "      <td>3.639845</td>\n",
              "    </tr>\n",
              "    <tr>\n",
              "      <th>SI2</th>\n",
              "      <td>1.077648</td>\n",
              "      <td>61.772167</td>\n",
              "      <td>57.927181</td>\n",
              "      <td>5063.028606</td>\n",
              "      <td>6.401370</td>\n",
              "      <td>6.397826</td>\n",
              "      <td>3.948478</td>\n",
              "    </tr>\n",
              "    <tr>\n",
              "      <th>VS1</th>\n",
              "      <td>0.727158</td>\n",
              "      <td>61.667458</td>\n",
              "      <td>57.315151</td>\n",
              "      <td>3839.455391</td>\n",
              "      <td>5.572178</td>\n",
              "      <td>5.581828</td>\n",
              "      <td>3.441007</td>\n",
              "    </tr>\n",
              "    <tr>\n",
              "      <th>VS2</th>\n",
              "      <td>0.763935</td>\n",
              "      <td>61.724417</td>\n",
              "      <td>57.417401</td>\n",
              "      <td>3924.989395</td>\n",
              "      <td>5.657709</td>\n",
              "      <td>5.658859</td>\n",
              "      <td>3.491478</td>\n",
              "    </tr>\n",
              "    <tr>\n",
              "      <th>VVS1</th>\n",
              "      <td>0.503321</td>\n",
              "      <td>61.624651</td>\n",
              "      <td>56.884460</td>\n",
              "      <td>2523.114637</td>\n",
              "      <td>4.960364</td>\n",
              "      <td>4.975075</td>\n",
              "      <td>3.061294</td>\n",
              "    </tr>\n",
              "    <tr>\n",
              "      <th>VVS2</th>\n",
              "      <td>0.596202</td>\n",
              "      <td>61.663778</td>\n",
              "      <td>57.024990</td>\n",
              "      <td>3283.737071</td>\n",
              "      <td>5.218454</td>\n",
              "      <td>5.232118</td>\n",
              "      <td>3.221465</td>\n",
              "    </tr>\n",
              "  </tbody>\n",
              "</table>\n",
              "</div>"
            ],
            "text/plain": [
              "            carat      depth      table  ...         x         y         z\n",
              "clarity                                  ...                              \n",
              "I1       1.283846  62.734278  58.303779  ...  6.761093  6.709379  4.207908\n",
              "IF       0.505123  61.510615  56.507207  ...  4.968402  4.989827  3.061659\n",
              "SI1      0.850482  61.853042  57.662541  ...  5.888383  5.888256  3.639845\n",
              "SI2      1.077648  61.772167  57.927181  ...  6.401370  6.397826  3.948478\n",
              "VS1      0.727158  61.667458  57.315151  ...  5.572178  5.581828  3.441007\n",
              "VS2      0.763935  61.724417  57.417401  ...  5.657709  5.658859  3.491478\n",
              "VVS1     0.503321  61.624651  56.884460  ...  4.960364  4.975075  3.061294\n",
              "VVS2     0.596202  61.663778  57.024990  ...  5.218454  5.232118  3.221465\n",
              "\n",
              "[8 rows x 7 columns]"
            ]
          },
          "metadata": {},
          "execution_count": 9
        }
      ]
    },
    {
      "cell_type": "code",
      "metadata": {
        "colab": {
          "base_uri": "https://localhost:8080/"
        },
        "id": "SJybvSMOxXCl",
        "outputId": "45c4b384-2843-48d8-9181-277ba72f1759"
      },
      "source": [
        "diamonds[\"cut\"].value_counts()"
      ],
      "execution_count": null,
      "outputs": [
        {
          "output_type": "execute_result",
          "data": {
            "text/plain": [
              "Ideal        21551\n",
              "Premium      13791\n",
              "Very Good    12082\n",
              "Good          4906\n",
              "Fair          1610\n",
              "Name: cut, dtype: int64"
            ]
          },
          "metadata": {},
          "execution_count": 10
        }
      ]
    },
    {
      "cell_type": "code",
      "metadata": {
        "id": "mOMoJMqfxfN1",
        "colab": {
          "base_uri": "https://localhost:8080/",
          "height": 235
        },
        "outputId": "861b9a8c-7b13-47ae-e467-ac2f1fc4592b"
      },
      "source": [
        "diamonds.groupby([\"cut\"]).mean()"
      ],
      "execution_count": null,
      "outputs": [
        {
          "output_type": "execute_result",
          "data": {
            "text/html": [
              "<div>\n",
              "<style scoped>\n",
              "    .dataframe tbody tr th:only-of-type {\n",
              "        vertical-align: middle;\n",
              "    }\n",
              "\n",
              "    .dataframe tbody tr th {\n",
              "        vertical-align: top;\n",
              "    }\n",
              "\n",
              "    .dataframe thead th {\n",
              "        text-align: right;\n",
              "    }\n",
              "</style>\n",
              "<table border=\"1\" class=\"dataframe\">\n",
              "  <thead>\n",
              "    <tr style=\"text-align: right;\">\n",
              "      <th></th>\n",
              "      <th>carat</th>\n",
              "      <th>depth</th>\n",
              "      <th>table</th>\n",
              "      <th>price</th>\n",
              "      <th>x</th>\n",
              "      <th>y</th>\n",
              "      <th>z</th>\n",
              "    </tr>\n",
              "    <tr>\n",
              "      <th>cut</th>\n",
              "      <th></th>\n",
              "      <th></th>\n",
              "      <th></th>\n",
              "      <th></th>\n",
              "      <th></th>\n",
              "      <th></th>\n",
              "      <th></th>\n",
              "    </tr>\n",
              "  </thead>\n",
              "  <tbody>\n",
              "    <tr>\n",
              "      <th>Fair</th>\n",
              "      <td>1.046137</td>\n",
              "      <td>64.041677</td>\n",
              "      <td>59.053789</td>\n",
              "      <td>4358.757764</td>\n",
              "      <td>6.246894</td>\n",
              "      <td>6.182652</td>\n",
              "      <td>3.982770</td>\n",
              "    </tr>\n",
              "    <tr>\n",
              "      <th>Good</th>\n",
              "      <td>0.849185</td>\n",
              "      <td>62.365879</td>\n",
              "      <td>58.694639</td>\n",
              "      <td>3928.864452</td>\n",
              "      <td>5.838785</td>\n",
              "      <td>5.850744</td>\n",
              "      <td>3.639507</td>\n",
              "    </tr>\n",
              "    <tr>\n",
              "      <th>Ideal</th>\n",
              "      <td>0.702837</td>\n",
              "      <td>61.709401</td>\n",
              "      <td>55.951668</td>\n",
              "      <td>3457.541970</td>\n",
              "      <td>5.507451</td>\n",
              "      <td>5.520080</td>\n",
              "      <td>3.401448</td>\n",
              "    </tr>\n",
              "    <tr>\n",
              "      <th>Premium</th>\n",
              "      <td>0.891955</td>\n",
              "      <td>61.264673</td>\n",
              "      <td>58.746095</td>\n",
              "      <td>4584.257704</td>\n",
              "      <td>5.973887</td>\n",
              "      <td>5.944879</td>\n",
              "      <td>3.647124</td>\n",
              "    </tr>\n",
              "    <tr>\n",
              "      <th>Very Good</th>\n",
              "      <td>0.806381</td>\n",
              "      <td>61.818275</td>\n",
              "      <td>57.956150</td>\n",
              "      <td>3981.759891</td>\n",
              "      <td>5.740696</td>\n",
              "      <td>5.770026</td>\n",
              "      <td>3.559801</td>\n",
              "    </tr>\n",
              "  </tbody>\n",
              "</table>\n",
              "</div>"
            ],
            "text/plain": [
              "              carat      depth      table  ...         x         y         z\n",
              "cut                                        ...                              \n",
              "Fair       1.046137  64.041677  59.053789  ...  6.246894  6.182652  3.982770\n",
              "Good       0.849185  62.365879  58.694639  ...  5.838785  5.850744  3.639507\n",
              "Ideal      0.702837  61.709401  55.951668  ...  5.507451  5.520080  3.401448\n",
              "Premium    0.891955  61.264673  58.746095  ...  5.973887  5.944879  3.647124\n",
              "Very Good  0.806381  61.818275  57.956150  ...  5.740696  5.770026  3.559801\n",
              "\n",
              "[5 rows x 7 columns]"
            ]
          },
          "metadata": {},
          "execution_count": 11
        }
      ]
    },
    {
      "cell_type": "code",
      "metadata": {
        "colab": {
          "base_uri": "https://localhost:8080/",
          "height": 450
        },
        "id": "BbU-0Zbnv_hr",
        "outputId": "307b41f9-31cc-46a9-a67d-c2e636674d41"
      },
      "source": [
        "diamonds.groupby([\"cut\", \"clarity\", \"color\"]).mean().head(276)"
      ],
      "execution_count": null,
      "outputs": [
        {
          "output_type": "execute_result",
          "data": {
            "text/html": [
              "<div>\n",
              "<style scoped>\n",
              "    .dataframe tbody tr th:only-of-type {\n",
              "        vertical-align: middle;\n",
              "    }\n",
              "\n",
              "    .dataframe tbody tr th {\n",
              "        vertical-align: top;\n",
              "    }\n",
              "\n",
              "    .dataframe thead th {\n",
              "        text-align: right;\n",
              "    }\n",
              "</style>\n",
              "<table border=\"1\" class=\"dataframe\">\n",
              "  <thead>\n",
              "    <tr style=\"text-align: right;\">\n",
              "      <th></th>\n",
              "      <th></th>\n",
              "      <th></th>\n",
              "      <th>carat</th>\n",
              "      <th>depth</th>\n",
              "      <th>table</th>\n",
              "      <th>price</th>\n",
              "      <th>x</th>\n",
              "      <th>y</th>\n",
              "      <th>z</th>\n",
              "    </tr>\n",
              "    <tr>\n",
              "      <th>cut</th>\n",
              "      <th>clarity</th>\n",
              "      <th>color</th>\n",
              "      <th></th>\n",
              "      <th></th>\n",
              "      <th></th>\n",
              "      <th></th>\n",
              "      <th></th>\n",
              "      <th></th>\n",
              "      <th></th>\n",
              "    </tr>\n",
              "  </thead>\n",
              "  <tbody>\n",
              "    <tr>\n",
              "      <th rowspan=\"5\" valign=\"top\">Fair</th>\n",
              "      <th rowspan=\"5\" valign=\"top\">I1</th>\n",
              "      <th>D</th>\n",
              "      <td>1.877500</td>\n",
              "      <td>65.600000</td>\n",
              "      <td>56.750000</td>\n",
              "      <td>7383.000000</td>\n",
              "      <td>7.517500</td>\n",
              "      <td>7.422500</td>\n",
              "      <td>4.905000</td>\n",
              "    </tr>\n",
              "    <tr>\n",
              "      <th>E</th>\n",
              "      <td>0.968889</td>\n",
              "      <td>65.644444</td>\n",
              "      <td>58.111111</td>\n",
              "      <td>2095.222222</td>\n",
              "      <td>6.170000</td>\n",
              "      <td>6.061111</td>\n",
              "      <td>4.008889</td>\n",
              "    </tr>\n",
              "    <tr>\n",
              "      <th>F</th>\n",
              "      <td>1.023429</td>\n",
              "      <td>65.657143</td>\n",
              "      <td>58.428571</td>\n",
              "      <td>2543.514286</td>\n",
              "      <td>6.143429</td>\n",
              "      <td>6.040571</td>\n",
              "      <td>4.000857</td>\n",
              "    </tr>\n",
              "    <tr>\n",
              "      <th>G</th>\n",
              "      <td>1.226415</td>\n",
              "      <td>65.333962</td>\n",
              "      <td>57.660377</td>\n",
              "      <td>3187.471698</td>\n",
              "      <td>6.523396</td>\n",
              "      <td>6.434906</td>\n",
              "      <td>4.233962</td>\n",
              "    </tr>\n",
              "    <tr>\n",
              "      <th>H</th>\n",
              "      <td>1.498654</td>\n",
              "      <td>65.759615</td>\n",
              "      <td>58.403846</td>\n",
              "      <td>4212.961538</td>\n",
              "      <td>6.961731</td>\n",
              "      <td>6.858462</td>\n",
              "      <td>4.549231</td>\n",
              "    </tr>\n",
              "    <tr>\n",
              "      <th>...</th>\n",
              "      <th>...</th>\n",
              "      <th>...</th>\n",
              "      <td>...</td>\n",
              "      <td>...</td>\n",
              "      <td>...</td>\n",
              "      <td>...</td>\n",
              "      <td>...</td>\n",
              "      <td>...</td>\n",
              "      <td>...</td>\n",
              "    </tr>\n",
              "    <tr>\n",
              "      <th rowspan=\"5\" valign=\"top\">Very Good</th>\n",
              "      <th rowspan=\"5\" valign=\"top\">VVS2</th>\n",
              "      <th>F</th>\n",
              "      <td>0.571365</td>\n",
              "      <td>61.541767</td>\n",
              "      <td>57.659839</td>\n",
              "      <td>3461.911647</td>\n",
              "      <td>5.104498</td>\n",
              "      <td>5.140803</td>\n",
              "      <td>3.152209</td>\n",
              "    </tr>\n",
              "    <tr>\n",
              "      <th>G</th>\n",
              "      <td>0.650695</td>\n",
              "      <td>61.821523</td>\n",
              "      <td>57.595364</td>\n",
              "      <td>3711.784768</td>\n",
              "      <td>5.348477</td>\n",
              "      <td>5.381159</td>\n",
              "      <td>3.316159</td>\n",
              "    </tr>\n",
              "    <tr>\n",
              "      <th>H</th>\n",
              "      <td>0.593724</td>\n",
              "      <td>61.895862</td>\n",
              "      <td>57.260690</td>\n",
              "      <td>2768.144828</td>\n",
              "      <td>5.146621</td>\n",
              "      <td>5.170414</td>\n",
              "      <td>3.190690</td>\n",
              "    </tr>\n",
              "    <tr>\n",
              "      <th>I</th>\n",
              "      <td>0.701831</td>\n",
              "      <td>61.957746</td>\n",
              "      <td>57.477465</td>\n",
              "      <td>3059.887324</td>\n",
              "      <td>5.479718</td>\n",
              "      <td>5.506479</td>\n",
              "      <td>3.403099</td>\n",
              "    </tr>\n",
              "    <tr>\n",
              "      <th>J</th>\n",
              "      <td>1.102069</td>\n",
              "      <td>62.410345</td>\n",
              "      <td>58.344828</td>\n",
              "      <td>5960.448276</td>\n",
              "      <td>6.339310</td>\n",
              "      <td>6.368966</td>\n",
              "      <td>3.964828</td>\n",
              "    </tr>\n",
              "  </tbody>\n",
              "</table>\n",
              "<p>276 rows × 7 columns</p>\n",
              "</div>"
            ],
            "text/plain": [
              "                            carat      depth  ...         y         z\n",
              "cut       clarity color                       ...                    \n",
              "Fair      I1      D      1.877500  65.600000  ...  7.422500  4.905000\n",
              "                  E      0.968889  65.644444  ...  6.061111  4.008889\n",
              "                  F      1.023429  65.657143  ...  6.040571  4.000857\n",
              "                  G      1.226415  65.333962  ...  6.434906  4.233962\n",
              "                  H      1.498654  65.759615  ...  6.858462  4.549231\n",
              "...                           ...        ...  ...       ...       ...\n",
              "Very Good VVS2    F      0.571365  61.541767  ...  5.140803  3.152209\n",
              "                  G      0.650695  61.821523  ...  5.381159  3.316159\n",
              "                  H      0.593724  61.895862  ...  5.170414  3.190690\n",
              "                  I      0.701831  61.957746  ...  5.506479  3.403099\n",
              "                  J      1.102069  62.410345  ...  6.368966  3.964828\n",
              "\n",
              "[276 rows x 7 columns]"
            ]
          },
          "metadata": {},
          "execution_count": 9
        }
      ]
    },
    {
      "cell_type": "markdown",
      "metadata": {
        "id": "iITFM_7lkvxG"
      },
      "source": [
        "\n",
        "\n",
        "# DO NOT RERUN THIS CELL, IT TAKES 5 MINUTES TO RENDER!\n"
      ]
    },
    {
      "cell_type": "code",
      "metadata": {
        "id": "GOYj671XwrX5"
      },
      "source": [
        "sns.pairplot(data=diamonds, hue=\"cut\")"
      ],
      "execution_count": null,
      "outputs": []
    },
    {
      "cell_type": "markdown",
      "metadata": {
        "id": "uBqxeXGvaPpk"
      },
      "source": [
        "notice in the past few cells how different `cut` `clarity` and `color` values have different means for `price`, this implies that they are good predictors for `price`."
      ]
    },
    {
      "cell_type": "code",
      "metadata": {
        "colab": {
          "base_uri": "https://localhost:8080/",
          "height": 266
        },
        "id": "fluK8h1FnblQ",
        "outputId": "17622f5b-d9a5-4d0d-ffa5-4aa86155aab0"
      },
      "source": [
        "diamonds.corr()"
      ],
      "execution_count": null,
      "outputs": [
        {
          "output_type": "execute_result",
          "data": {
            "text/html": [
              "<div>\n",
              "<style scoped>\n",
              "    .dataframe tbody tr th:only-of-type {\n",
              "        vertical-align: middle;\n",
              "    }\n",
              "\n",
              "    .dataframe tbody tr th {\n",
              "        vertical-align: top;\n",
              "    }\n",
              "\n",
              "    .dataframe thead th {\n",
              "        text-align: right;\n",
              "    }\n",
              "</style>\n",
              "<table border=\"1\" class=\"dataframe\">\n",
              "  <thead>\n",
              "    <tr style=\"text-align: right;\">\n",
              "      <th></th>\n",
              "      <th>carat</th>\n",
              "      <th>depth</th>\n",
              "      <th>table</th>\n",
              "      <th>price</th>\n",
              "      <th>x</th>\n",
              "      <th>y</th>\n",
              "      <th>z</th>\n",
              "    </tr>\n",
              "  </thead>\n",
              "  <tbody>\n",
              "    <tr>\n",
              "      <th>carat</th>\n",
              "      <td>1.000000</td>\n",
              "      <td>0.028224</td>\n",
              "      <td>0.181618</td>\n",
              "      <td>0.921591</td>\n",
              "      <td>0.975094</td>\n",
              "      <td>0.951722</td>\n",
              "      <td>0.953387</td>\n",
              "    </tr>\n",
              "    <tr>\n",
              "      <th>depth</th>\n",
              "      <td>0.028224</td>\n",
              "      <td>1.000000</td>\n",
              "      <td>-0.295779</td>\n",
              "      <td>-0.010647</td>\n",
              "      <td>-0.025289</td>\n",
              "      <td>-0.029341</td>\n",
              "      <td>0.094924</td>\n",
              "    </tr>\n",
              "    <tr>\n",
              "      <th>table</th>\n",
              "      <td>0.181618</td>\n",
              "      <td>-0.295779</td>\n",
              "      <td>1.000000</td>\n",
              "      <td>0.127134</td>\n",
              "      <td>0.195344</td>\n",
              "      <td>0.183760</td>\n",
              "      <td>0.150929</td>\n",
              "    </tr>\n",
              "    <tr>\n",
              "      <th>price</th>\n",
              "      <td>0.921591</td>\n",
              "      <td>-0.010647</td>\n",
              "      <td>0.127134</td>\n",
              "      <td>1.000000</td>\n",
              "      <td>0.884435</td>\n",
              "      <td>0.865421</td>\n",
              "      <td>0.861249</td>\n",
              "    </tr>\n",
              "    <tr>\n",
              "      <th>x</th>\n",
              "      <td>0.975094</td>\n",
              "      <td>-0.025289</td>\n",
              "      <td>0.195344</td>\n",
              "      <td>0.884435</td>\n",
              "      <td>1.000000</td>\n",
              "      <td>0.974701</td>\n",
              "      <td>0.970772</td>\n",
              "    </tr>\n",
              "    <tr>\n",
              "      <th>y</th>\n",
              "      <td>0.951722</td>\n",
              "      <td>-0.029341</td>\n",
              "      <td>0.183760</td>\n",
              "      <td>0.865421</td>\n",
              "      <td>0.974701</td>\n",
              "      <td>1.000000</td>\n",
              "      <td>0.952006</td>\n",
              "    </tr>\n",
              "    <tr>\n",
              "      <th>z</th>\n",
              "      <td>0.953387</td>\n",
              "      <td>0.094924</td>\n",
              "      <td>0.150929</td>\n",
              "      <td>0.861249</td>\n",
              "      <td>0.970772</td>\n",
              "      <td>0.952006</td>\n",
              "      <td>1.000000</td>\n",
              "    </tr>\n",
              "  </tbody>\n",
              "</table>\n",
              "</div>"
            ],
            "text/plain": [
              "          carat     depth     table     price         x         y         z\n",
              "carat  1.000000  0.028224  0.181618  0.921591  0.975094  0.951722  0.953387\n",
              "depth  0.028224  1.000000 -0.295779 -0.010647 -0.025289 -0.029341  0.094924\n",
              "table  0.181618 -0.295779  1.000000  0.127134  0.195344  0.183760  0.150929\n",
              "price  0.921591 -0.010647  0.127134  1.000000  0.884435  0.865421  0.861249\n",
              "x      0.975094 -0.025289  0.195344  0.884435  1.000000  0.974701  0.970772\n",
              "y      0.951722 -0.029341  0.183760  0.865421  0.974701  1.000000  0.952006\n",
              "z      0.953387  0.094924  0.150929  0.861249  0.970772  0.952006  1.000000"
            ]
          },
          "metadata": {},
          "execution_count": 12
        }
      ]
    },
    {
      "cell_type": "markdown",
      "metadata": {
        "id": "A0iUo0kQtPAl"
      },
      "source": [
        "it appears that size, dimensions are the best predicting factors for price \n",
        "\n",
        "*we use coolwarm because it make it easy to visually separate negative/positive correlation using only 2 colors.*"
      ]
    },
    {
      "cell_type": "code",
      "metadata": {
        "colab": {
          "base_uri": "https://localhost:8080/",
          "height": 286
        },
        "id": "BsGmlgDuoNbi",
        "outputId": "21827844-9258-4e03-8ce9-3aad48593afa"
      },
      "source": [
        "sns.heatmap(data=diamonds.corr(), vmax=1, vmin=-1, cmap=sns.color_palette(\"coolwarm\", as_cmap=True))"
      ],
      "execution_count": null,
      "outputs": [
        {
          "output_type": "execute_result",
          "data": {
            "text/plain": [
              "<matplotlib.axes._subplots.AxesSubplot at 0x7f914a9a7ed0>"
            ]
          },
          "metadata": {},
          "execution_count": 13
        },
        {
          "output_type": "display_data",
          "data": {
            "image/png": "[encoded data removed]",
            "text/plain": [
              "<Figure size 432x288 with 2 Axes>"
            ]
          },
          "metadata": {
            "needs_background": "light"
          }
        }
      ]
    },
    {
      "cell_type": "markdown",
      "metadata": {
        "id": "hNpUiEG-75Rz"
      },
      "source": [
        "as we can see x/y/z/carats are highly correlated so we feature extraction is needed here"
      ]
    },
    {
      "cell_type": "code",
      "metadata": {
        "colab": {
          "base_uri": "https://localhost:8080/",
          "height": 609
        },
        "id": "WPN9Chp48H4C",
        "outputId": "e7be3b50-1f7e-4876-a9bd-271cd4e338f8"
      },
      "source": [
        "fig, ax = plt.subplots()\n",
        "diamonds[[\"x\", \"y\", \"z\"]].plot(figsize=(15, 10), ylim=(0, 15), ax=ax, style=['s--','o--','-'])"
      ],
      "execution_count": null,
      "outputs": [
        {
          "output_type": "execute_result",
          "data": {
            "text/plain": [
              "<matplotlib.axes._subplots.AxesSubplot at 0x7f9142838390>"
            ]
          },
          "metadata": {},
          "execution_count": 14
        },
        {
          "output_type": "display_data",
          "data": {
            "image/png": "[encoded data removed]",
            "text/plain": [
              "<Figure size 1080x720 with 1 Axes>"
            ]
          },
          "metadata": {
            "needs_background": "light"
          }
        }
      ]
    },
    {
      "cell_type": "code",
      "metadata": {
        "colab": {
          "base_uri": "https://localhost:8080/",
          "height": 517
        },
        "id": "VVpjKLrVI4Vw",
        "outputId": "a8a5399b-de1b-4977-e16d-73777ebc883e"
      },
      "source": [
        "sns.set(rc={'figure.figsize':(16.7,8.27)})\n",
        "sns.boxplot(data=diamonds[[\"x\", \"y\", \"z\"]], orient=\"h\")"
      ],
      "execution_count": null,
      "outputs": [
        {
          "output_type": "execute_result",
          "data": {
            "text/plain": [
              "<matplotlib.axes._subplots.AxesSubplot at 0x7f91422d8590>"
            ]
          },
          "metadata": {},
          "execution_count": 15
        },
        {
          "output_type": "display_data",
          "data": {
            "image/png": "[encoded data removed]",
            "text/plain": [
              "<Figure size 1202.4x595.44 with 1 Axes>"
            ]
          },
          "metadata": {}
        }
      ]
    },
    {
      "cell_type": "code",
      "metadata": {
        "colab": {
          "base_uri": "https://localhost:8080/"
        },
        "id": "qAQdqlMcIDdb",
        "outputId": "7aa0d84e-f35d-4717-9958-db658b154e56"
      },
      "source": [
        "from sklearn.metrics import mean_absolute_error\n",
        "print(mean_absolute_error(diamonds[\"x\"], diamonds[\"y\"]))\n",
        "print(mean_absolute_error(diamonds[\"x\"], diamonds[\"z\"]))\n",
        "print(mean_absolute_error(diamonds[\"z\"], diamonds[\"y\"]))"
      ],
      "execution_count": null,
      "outputs": [
        {
          "output_type": "stream",
          "text": [
            "0.04784964775676678\n",
            "2.19341453466815\n",
            "2.196781053021876\n"
          ],
          "name": "stdout"
        }
      ]
    },
    {
      "cell_type": "markdown",
      "metadata": {
        "id": "rXL8NMVDIaYs"
      },
      "source": [
        "as we can see here, `x` and `y` are nearly identical, with z being almost identical save for a constant factor (an offset in the y axis).\n",
        "\n",
        "a few outliers are also visible in the box plot "
      ]
    },
    {
      "cell_type": "code",
      "metadata": {
        "colab": {
          "base_uri": "https://localhost:8080/",
          "height": 611
        },
        "id": "aMBKF2FcSMym",
        "outputId": "11099158-69b7-415e-87c0-f6d9ee3a79af"
      },
      "source": [
        "fig, ax = plt.subplots()\n",
        "dimensional_features = [\"x\", \"y\", \"z\", \"carat\"]\n",
        "diamonds[dimensional_features].plot(figsize=(15, 10), ylim=(0, 15), ax=ax, style=['s--','o--','-', \"^\"])"
      ],
      "execution_count": null,
      "outputs": [
        {
          "output_type": "execute_result",
          "data": {
            "text/plain": [
              "<matplotlib.axes._subplots.AxesSubplot at 0x7f915e6d7690>"
            ]
          },
          "metadata": {},
          "execution_count": 17
        },
        {
          "output_type": "display_data",
          "data": {
            "image/png": "[encoded data removed]",
            "text/plain": [
              "<Figure size 1080x720 with 1 Axes>"
            ]
          },
          "metadata": {}
        }
      ]
    },
    {
      "cell_type": "code",
      "metadata": {
        "colab": {
          "base_uri": "https://localhost:8080/"
        },
        "id": "Wz2UdW44SaAq",
        "outputId": "fbdb94e2-8b40-412c-b1db-ab588317a202"
      },
      "source": [
        "from sklearn.metrics import mean_absolute_error\n",
        "for i in dimensional_features:\n",
        "  for j in dimensional_features:\n",
        "      print(i, j, mean_absolute_error(diamonds[i], diamonds[j]))"
      ],
      "execution_count": null,
      "outputs": [
        {
          "output_type": "stream",
          "text": [
            "x x 0.0\n",
            "x y 0.04784964775676678\n",
            "x z 2.19341453466815\n",
            "x carat 4.933574898034853\n",
            "y x 0.04784964775676678\n",
            "y y 0.0\n",
            "y z 2.196781053021876\n",
            "y carat 4.936903967371153\n",
            "z x 2.19341453466815\n",
            "z y 2.196781053021876\n",
            "z z 0.0\n",
            "z carat 2.7418685576566553\n",
            "carat x 4.933574898034853\n",
            "carat y 4.936903967371153\n",
            "carat z 2.7418685576566553\n",
            "carat carat 0.0\n"
          ],
          "name": "stdout"
        }
      ]
    },
    {
      "cell_type": "markdown",
      "metadata": {
        "id": "1XJ8NGKpWghY"
      },
      "source": [
        "we use this equation to calculate the volume of the diamond $\\sqrt[3]{x*y*z}$\n",
        "\n",
        "we take the cube root so as to not mess with the scale of the data \n"
      ]
    },
    {
      "cell_type": "code",
      "metadata": {
        "colab": {
          "base_uri": "https://localhost:8080/"
        },
        "id": "ClmAGVgvUphd",
        "outputId": "481bf1e3-1a2f-4fb6-c921-1a4dc69314ed"
      },
      "source": [
        "size_column = np.cbrt(diamonds[\"x\"] * diamonds[\"y\"] * diamonds[\"z\"])\n",
        "size_column"
      ],
      "execution_count": null,
      "outputs": [
        {
          "output_type": "execute_result",
          "data": {
            "text/plain": [
              "0        3.367923\n",
              "1        3.255599\n",
              "2        3.364241\n",
              "3        3.601763\n",
              "4        3.730530\n",
              "           ...   \n",
              "53935    4.875878\n",
              "53936    4.906394\n",
              "53937    4.855175\n",
              "53938    5.201948\n",
              "53939    4.994239\n",
              "Length: 53940, dtype: float64"
            ]
          },
          "metadata": {},
          "execution_count": 19
        }
      ]
    },
    {
      "cell_type": "markdown",
      "metadata": {
        "id": "Fv1Ks6qgXIa4"
      },
      "source": [
        "here we see that `carat` is highly correlated with all 3 dimensions, this means that we may have to perform some dimensionality reduction "
      ]
    },
    {
      "cell_type": "code",
      "metadata": {
        "colab": {
          "base_uri": "https://localhost:8080/",
          "height": 611
        },
        "id": "jRJqgHidVZSC",
        "outputId": "bbe1861c-7862-499f-db7a-a0f26e26d2b5"
      },
      "source": [
        "fig, ax = plt.subplots()\n",
        "dimensional_features = [\"x\", \"y\", \"z\"]\n",
        "diamonds[dimensional_features].plot(figsize=(15, 10), ylim=(0, 15), ax=ax, style=['s--','o--','-'])\n",
        "size_column.plot(ax=ax, legend=True, label=\"volume\")"
      ],
      "execution_count": null,
      "outputs": [
        {
          "output_type": "execute_result",
          "data": {
            "text/plain": [
              "<matplotlib.axes._subplots.AxesSubplot at 0x7f913f1c7e50>"
            ]
          },
          "metadata": {},
          "execution_count": 20
        },
        {
          "output_type": "display_data",
          "data": {
            "image/png": "[encoded data removed]",
            "text/plain": [
              "<Figure size 1080x720 with 1 Axes>"
            ]
          },
          "metadata": {}
        }
      ]
    },
    {
      "cell_type": "markdown",
      "metadata": {
        "id": "vCmoHscS9xpF"
      },
      "source": [
        "\n",
        "\n",
        "*   takes in a `DataFrame`\n",
        "*   returns `ndarray`\n",
        "\n",
        "\n",
        "do not mix\n",
        "\n",
        "this class is for converting x, y, z to one dimension, we take the cube root to prevent the scale of the data from changing\n"
      ]
    },
    {
      "cell_type": "code",
      "metadata": {
        "colab": {
          "base_uri": "https://localhost:8080/",
          "height": 419
        },
        "id": "4sIZ8bX4z1Nq",
        "outputId": "ed95b3c0-4082-4db7-e226-ff9f0d4dbcb0"
      },
      "source": [
        "diamonds[(diamonds != 0).all(axis=1)]"
      ],
      "execution_count": null,
      "outputs": [
        {
          "output_type": "execute_result",
          "data": {
            "text/html": [
              "<div>\n",
              "<style scoped>\n",
              "    .dataframe tbody tr th:only-of-type {\n",
              "        vertical-align: middle;\n",
              "    }\n",
              "\n",
              "    .dataframe tbody tr th {\n",
              "        vertical-align: top;\n",
              "    }\n",
              "\n",
              "    .dataframe thead th {\n",
              "        text-align: right;\n",
              "    }\n",
              "</style>\n",
              "<table border=\"1\" class=\"dataframe\">\n",
              "  <thead>\n",
              "    <tr style=\"text-align: right;\">\n",
              "      <th></th>\n",
              "      <th>carat</th>\n",
              "      <th>cut</th>\n",
              "      <th>color</th>\n",
              "      <th>clarity</th>\n",
              "      <th>depth</th>\n",
              "      <th>table</th>\n",
              "      <th>price</th>\n",
              "      <th>x</th>\n",
              "      <th>y</th>\n",
              "      <th>z</th>\n",
              "    </tr>\n",
              "  </thead>\n",
              "  <tbody>\n",
              "    <tr>\n",
              "      <th>0</th>\n",
              "      <td>0.23</td>\n",
              "      <td>Ideal</td>\n",
              "      <td>E</td>\n",
              "      <td>SI2</td>\n",
              "      <td>61.5</td>\n",
              "      <td>55.0</td>\n",
              "      <td>326</td>\n",
              "      <td>3.95</td>\n",
              "      <td>3.98</td>\n",
              "      <td>2.43</td>\n",
              "    </tr>\n",
              "    <tr>\n",
              "      <th>1</th>\n",
              "      <td>0.21</td>\n",
              "      <td>Premium</td>\n",
              "      <td>E</td>\n",
              "      <td>SI1</td>\n",
              "      <td>59.8</td>\n",
              "      <td>61.0</td>\n",
              "      <td>326</td>\n",
              "      <td>3.89</td>\n",
              "      <td>3.84</td>\n",
              "      <td>2.31</td>\n",
              "    </tr>\n",
              "    <tr>\n",
              "      <th>2</th>\n",
              "      <td>0.23</td>\n",
              "      <td>Good</td>\n",
              "      <td>E</td>\n",
              "      <td>VS1</td>\n",
              "      <td>56.9</td>\n",
              "      <td>65.0</td>\n",
              "      <td>327</td>\n",
              "      <td>4.05</td>\n",
              "      <td>4.07</td>\n",
              "      <td>2.31</td>\n",
              "    </tr>\n",
              "    <tr>\n",
              "      <th>3</th>\n",
              "      <td>0.29</td>\n",
              "      <td>Premium</td>\n",
              "      <td>I</td>\n",
              "      <td>VS2</td>\n",
              "      <td>62.4</td>\n",
              "      <td>58.0</td>\n",
              "      <td>334</td>\n",
              "      <td>4.20</td>\n",
              "      <td>4.23</td>\n",
              "      <td>2.63</td>\n",
              "    </tr>\n",
              "    <tr>\n",
              "      <th>4</th>\n",
              "      <td>0.31</td>\n",
              "      <td>Good</td>\n",
              "      <td>J</td>\n",
              "      <td>SI2</td>\n",
              "      <td>63.3</td>\n",
              "      <td>58.0</td>\n",
              "      <td>335</td>\n",
              "      <td>4.34</td>\n",
              "      <td>4.35</td>\n",
              "      <td>2.75</td>\n",
              "    </tr>\n",
              "    <tr>\n",
              "      <th>...</th>\n",
              "      <td>...</td>\n",
              "      <td>...</td>\n",
              "      <td>...</td>\n",
              "      <td>...</td>\n",
              "      <td>...</td>\n",
              "      <td>...</td>\n",
              "      <td>...</td>\n",
              "      <td>...</td>\n",
              "      <td>...</td>\n",
              "      <td>...</td>\n",
              "    </tr>\n",
              "    <tr>\n",
              "      <th>53935</th>\n",
              "      <td>0.72</td>\n",
              "      <td>Ideal</td>\n",
              "      <td>D</td>\n",
              "      <td>SI1</td>\n",
              "      <td>60.8</td>\n",
              "      <td>57.0</td>\n",
              "      <td>2757</td>\n",
              "      <td>5.75</td>\n",
              "      <td>5.76</td>\n",
              "      <td>3.50</td>\n",
              "    </tr>\n",
              "    <tr>\n",
              "      <th>53936</th>\n",
              "      <td>0.72</td>\n",
              "      <td>Good</td>\n",
              "      <td>D</td>\n",
              "      <td>SI1</td>\n",
              "      <td>63.1</td>\n",
              "      <td>55.0</td>\n",
              "      <td>2757</td>\n",
              "      <td>5.69</td>\n",
              "      <td>5.75</td>\n",
              "      <td>3.61</td>\n",
              "    </tr>\n",
              "    <tr>\n",
              "      <th>53937</th>\n",
              "      <td>0.70</td>\n",
              "      <td>Very Good</td>\n",
              "      <td>D</td>\n",
              "      <td>SI1</td>\n",
              "      <td>62.8</td>\n",
              "      <td>60.0</td>\n",
              "      <td>2757</td>\n",
              "      <td>5.66</td>\n",
              "      <td>5.68</td>\n",
              "      <td>3.56</td>\n",
              "    </tr>\n",
              "    <tr>\n",
              "      <th>53938</th>\n",
              "      <td>0.86</td>\n",
              "      <td>Premium</td>\n",
              "      <td>H</td>\n",
              "      <td>SI2</td>\n",
              "      <td>61.0</td>\n",
              "      <td>58.0</td>\n",
              "      <td>2757</td>\n",
              "      <td>6.15</td>\n",
              "      <td>6.12</td>\n",
              "      <td>3.74</td>\n",
              "    </tr>\n",
              "    <tr>\n",
              "      <th>53939</th>\n",
              "      <td>0.75</td>\n",
              "      <td>Ideal</td>\n",
              "      <td>D</td>\n",
              "      <td>SI2</td>\n",
              "      <td>62.2</td>\n",
              "      <td>55.0</td>\n",
              "      <td>2757</td>\n",
              "      <td>5.83</td>\n",
              "      <td>5.87</td>\n",
              "      <td>3.64</td>\n",
              "    </tr>\n",
              "  </tbody>\n",
              "</table>\n",
              "<p>53920 rows × 10 columns</p>\n",
              "</div>"
            ],
            "text/plain": [
              "       carat        cut color clarity  depth  table  price     x     y     z\n",
              "0       0.23      Ideal     E     SI2   61.5   55.0    326  3.95  3.98  2.43\n",
              "1       0.21    Premium     E     SI1   59.8   61.0    326  3.89  3.84  2.31\n",
              "2       0.23       Good     E     VS1   56.9   65.0    327  4.05  4.07  2.31\n",
              "3       0.29    Premium     I     VS2   62.4   58.0    334  4.20  4.23  2.63\n",
              "4       0.31       Good     J     SI2   63.3   58.0    335  4.34  4.35  2.75\n",
              "...      ...        ...   ...     ...    ...    ...    ...   ...   ...   ...\n",
              "53935   0.72      Ideal     D     SI1   60.8   57.0   2757  5.75  5.76  3.50\n",
              "53936   0.72       Good     D     SI1   63.1   55.0   2757  5.69  5.75  3.61\n",
              "53937   0.70  Very Good     D     SI1   62.8   60.0   2757  5.66  5.68  3.56\n",
              "53938   0.86    Premium     H     SI2   61.0   58.0   2757  6.15  6.12  3.74\n",
              "53939   0.75      Ideal     D     SI2   62.2   55.0   2757  5.83  5.87  3.64\n",
              "\n",
              "[53920 rows x 10 columns]"
            ]
          },
          "metadata": {},
          "execution_count": 99
        }
      ]
    },
    {
      "cell_type": "code",
      "metadata": {
        "colab": {
          "base_uri": "https://localhost:8080/",
          "height": 419
        },
        "id": "LIokgeZg9kZQ",
        "outputId": "b70b90a4-6e61-460f-b17c-5de1aa619366"
      },
      "source": [
        "diamonds = diamonds[(diamonds != 0).all(axis=1)]\n",
        "diamonds"
      ],
      "execution_count": null,
      "outputs": [
        {
          "output_type": "execute_result",
          "data": {
            "text/html": [
              "<div>\n",
              "<style scoped>\n",
              "    .dataframe tbody tr th:only-of-type {\n",
              "        vertical-align: middle;\n",
              "    }\n",
              "\n",
              "    .dataframe tbody tr th {\n",
              "        vertical-align: top;\n",
              "    }\n",
              "\n",
              "    .dataframe thead th {\n",
              "        text-align: right;\n",
              "    }\n",
              "</style>\n",
              "<table border=\"1\" class=\"dataframe\">\n",
              "  <thead>\n",
              "    <tr style=\"text-align: right;\">\n",
              "      <th></th>\n",
              "      <th>carat</th>\n",
              "      <th>cut</th>\n",
              "      <th>color</th>\n",
              "      <th>clarity</th>\n",
              "      <th>depth</th>\n",
              "      <th>table</th>\n",
              "      <th>price</th>\n",
              "      <th>x</th>\n",
              "      <th>y</th>\n",
              "      <th>z</th>\n",
              "    </tr>\n",
              "  </thead>\n",
              "  <tbody>\n",
              "    <tr>\n",
              "      <th>0</th>\n",
              "      <td>0.23</td>\n",
              "      <td>Ideal</td>\n",
              "      <td>E</td>\n",
              "      <td>SI2</td>\n",
              "      <td>61.5</td>\n",
              "      <td>55.0</td>\n",
              "      <td>326</td>\n",
              "      <td>3.95</td>\n",
              "      <td>3.98</td>\n",
              "      <td>2.43</td>\n",
              "    </tr>\n",
              "    <tr>\n",
              "      <th>1</th>\n",
              "      <td>0.21</td>\n",
              "      <td>Premium</td>\n",
              "      <td>E</td>\n",
              "      <td>SI1</td>\n",
              "      <td>59.8</td>\n",
              "      <td>61.0</td>\n",
              "      <td>326</td>\n",
              "      <td>3.89</td>\n",
              "      <td>3.84</td>\n",
              "      <td>2.31</td>\n",
              "    </tr>\n",
              "    <tr>\n",
              "      <th>2</th>\n",
              "      <td>0.23</td>\n",
              "      <td>Good</td>\n",
              "      <td>E</td>\n",
              "      <td>VS1</td>\n",
              "      <td>56.9</td>\n",
              "      <td>65.0</td>\n",
              "      <td>327</td>\n",
              "      <td>4.05</td>\n",
              "      <td>4.07</td>\n",
              "      <td>2.31</td>\n",
              "    </tr>\n",
              "    <tr>\n",
              "      <th>3</th>\n",
              "      <td>0.29</td>\n",
              "      <td>Premium</td>\n",
              "      <td>I</td>\n",
              "      <td>VS2</td>\n",
              "      <td>62.4</td>\n",
              "      <td>58.0</td>\n",
              "      <td>334</td>\n",
              "      <td>4.20</td>\n",
              "      <td>4.23</td>\n",
              "      <td>2.63</td>\n",
              "    </tr>\n",
              "    <tr>\n",
              "      <th>4</th>\n",
              "      <td>0.31</td>\n",
              "      <td>Good</td>\n",
              "      <td>J</td>\n",
              "      <td>SI2</td>\n",
              "      <td>63.3</td>\n",
              "      <td>58.0</td>\n",
              "      <td>335</td>\n",
              "      <td>4.34</td>\n",
              "      <td>4.35</td>\n",
              "      <td>2.75</td>\n",
              "    </tr>\n",
              "    <tr>\n",
              "      <th>...</th>\n",
              "      <td>...</td>\n",
              "      <td>...</td>\n",
              "      <td>...</td>\n",
              "      <td>...</td>\n",
              "      <td>...</td>\n",
              "      <td>...</td>\n",
              "      <td>...</td>\n",
              "      <td>...</td>\n",
              "      <td>...</td>\n",
              "      <td>...</td>\n",
              "    </tr>\n",
              "    <tr>\n",
              "      <th>53935</th>\n",
              "      <td>0.72</td>\n",
              "      <td>Ideal</td>\n",
              "      <td>D</td>\n",
              "      <td>SI1</td>\n",
              "      <td>60.8</td>\n",
              "      <td>57.0</td>\n",
              "      <td>2757</td>\n",
              "      <td>5.75</td>\n",
              "      <td>5.76</td>\n",
              "      <td>3.50</td>\n",
              "    </tr>\n",
              "    <tr>\n",
              "      <th>53936</th>\n",
              "      <td>0.72</td>\n",
              "      <td>Good</td>\n",
              "      <td>D</td>\n",
              "      <td>SI1</td>\n",
              "      <td>63.1</td>\n",
              "      <td>55.0</td>\n",
              "      <td>2757</td>\n",
              "      <td>5.69</td>\n",
              "      <td>5.75</td>\n",
              "      <td>3.61</td>\n",
              "    </tr>\n",
              "    <tr>\n",
              "      <th>53937</th>\n",
              "      <td>0.70</td>\n",
              "      <td>Very Good</td>\n",
              "      <td>D</td>\n",
              "      <td>SI1</td>\n",
              "      <td>62.8</td>\n",
              "      <td>60.0</td>\n",
              "      <td>2757</td>\n",
              "      <td>5.66</td>\n",
              "      <td>5.68</td>\n",
              "      <td>3.56</td>\n",
              "    </tr>\n",
              "    <tr>\n",
              "      <th>53938</th>\n",
              "      <td>0.86</td>\n",
              "      <td>Premium</td>\n",
              "      <td>H</td>\n",
              "      <td>SI2</td>\n",
              "      <td>61.0</td>\n",
              "      <td>58.0</td>\n",
              "      <td>2757</td>\n",
              "      <td>6.15</td>\n",
              "      <td>6.12</td>\n",
              "      <td>3.74</td>\n",
              "    </tr>\n",
              "    <tr>\n",
              "      <th>53939</th>\n",
              "      <td>0.75</td>\n",
              "      <td>Ideal</td>\n",
              "      <td>D</td>\n",
              "      <td>SI2</td>\n",
              "      <td>62.2</td>\n",
              "      <td>55.0</td>\n",
              "      <td>2757</td>\n",
              "      <td>5.83</td>\n",
              "      <td>5.87</td>\n",
              "      <td>3.64</td>\n",
              "    </tr>\n",
              "  </tbody>\n",
              "</table>\n",
              "<p>53920 rows × 10 columns</p>\n",
              "</div>"
            ],
            "text/plain": [
              "       carat        cut color clarity  depth  table  price     x     y     z\n",
              "0       0.23      Ideal     E     SI2   61.5   55.0    326  3.95  3.98  2.43\n",
              "1       0.21    Premium     E     SI1   59.8   61.0    326  3.89  3.84  2.31\n",
              "2       0.23       Good     E     VS1   56.9   65.0    327  4.05  4.07  2.31\n",
              "3       0.29    Premium     I     VS2   62.4   58.0    334  4.20  4.23  2.63\n",
              "4       0.31       Good     J     SI2   63.3   58.0    335  4.34  4.35  2.75\n",
              "...      ...        ...   ...     ...    ...    ...    ...   ...   ...   ...\n",
              "53935   0.72      Ideal     D     SI1   60.8   57.0   2757  5.75  5.76  3.50\n",
              "53936   0.72       Good     D     SI1   63.1   55.0   2757  5.69  5.75  3.61\n",
              "53937   0.70  Very Good     D     SI1   62.8   60.0   2757  5.66  5.68  3.56\n",
              "53938   0.86    Premium     H     SI2   61.0   58.0   2757  6.15  6.12  3.74\n",
              "53939   0.75      Ideal     D     SI2   62.2   55.0   2757  5.83  5.87  3.64\n",
              "\n",
              "[53920 rows x 10 columns]"
            ]
          },
          "metadata": {},
          "execution_count": 101
        }
      ]
    },
    {
      "cell_type": "code",
      "metadata": {
        "id": "Bih7BjTXWeI3"
      },
      "source": [
        "from sklearn.base import BaseEstimator, TransformerMixin\n",
        "\n",
        "\n",
        "class VolumeCalculator(BaseEstimator, TransformerMixin): # this works !\n",
        "  def __init__(self, include_carat=False): # no *args or **kargs\n",
        "    self.include_carat = include_carat\n",
        "  def fit(self, X, y=None):\n",
        "    return self # nothing else to do\n",
        "  def transform(self, X):\n",
        "    #col_names = \"x\", \"y\", \"z\"\n",
        "    #xi, yi, zi = [\n",
        "    #diamonds.columns.get_loc(c) for c in col_names] # get the column indices\n",
        "    #print(xi, yi, zi)\n",
        "    cols = [\"x\", \"y\", \"x\"]\n",
        "    if self.include_carat:\n",
        "      volume_column_ = (X[\"x\"] * X[\"y\"] * X[\"z\"] * X[\"carat\"]) ** 0.25\n",
        "      cols.append(\"carat\")\n",
        "    else:\n",
        "      volume_column_ = np.cbrt(X[\"x\"] * X[\"y\"] * X[\"z\"])\n",
        "    return np.c_[X.drop(cols, axis=1), volume_column_]"
      ],
      "execution_count": null,
      "outputs": []
    },
    {
      "cell_type": "markdown",
      "metadata": {
        "id": "nkOZ9j9QWwAJ"
      },
      "source": [
        "the argument `include_carat` allows you to take carats as a fourth dimension to calculate volume since carats are also highly correlated with volume, this changes the equation to $\\sqrt[4]{x*y*z*carat}$"
      ]
    },
    {
      "cell_type": "code",
      "metadata": {
        "colab": {
          "base_uri": "https://localhost:8080/"
        },
        "id": "12Ug--47XMw1",
        "outputId": "717ff9b3-cba3-4037-8acf-e25e848283a8"
      },
      "source": [
        "volC = VolumeCalculator()\n",
        "volctest = volC.transform(diamonds)\n",
        "for i in range(20):\n",
        "  print(*volctest[i])\n",
        "print(diamonds)"
      ],
      "execution_count": null,
      "outputs": [
        {
          "output_type": "stream",
          "text": [
            "0.23 Ideal E SI2 61.5 55.0 326 2.43 3.3679229482507016\n",
            "0.21 Premium E SI1 59.8 61.0 326 2.31 3.2555992157818823\n",
            "0.23 Good E VS1 56.9 65.0 327 2.31 3.3642412957860457\n",
            "0.29 Premium I VS2 62.4 58.0 334 2.63 3.601763025342844\n",
            "0.31 Good J SI2 63.3 58.0 335 2.75 3.7305301998914326\n",
            "0.24 Very Good J VVS2 62.8 57.0 336 2.48 3.3823174238518092\n",
            "0.24 Very Good I VVS1 62.3 57.0 336 2.47 3.3863021549701116\n",
            "0.26 Very Good H SI1 61.9 55.0 337 2.53 3.4848619944842985\n",
            "0.22 Fair E VS2 65.1 61.0 337 2.49 3.314876635936626\n",
            "0.23 Very Good H VS1 59.4 61.0 338 2.39 3.383017973685475\n",
            "0.3 Good J SI1 64.0 55.0 339 2.73 3.6756299535581816\n",
            "0.23 Ideal J VS1 62.8 56.0 340 2.46 3.3532357538156563\n",
            "0.22 Premium F SI1 60.4 61.0 342 2.33 3.2621677528981365\n",
            "0.31 Ideal J SI2 62.2 54.0 344 2.71 3.7208885465639367\n",
            "0.2 Premium E SI2 60.2 62.0 345 2.27 3.183455462239396\n",
            "0.32 Premium E I1 60.9 58.0 345 2.68 3.7297271157642182\n",
            "0.3 Ideal I SI2 62.0 54.0 348 2.68 3.6872331351449525\n",
            "0.3 Good J SI1 63.4 54.0 351 2.7 3.6592083748807034\n",
            "0.3 Good J SI1 63.8 56.0 351 2.71 3.655160224854293\n",
            "0.3 Very Good J SI1 62.7 59.0 351 2.66 3.629642647597553\n",
            "       carat        cut color clarity  depth  table  price     x     y     z\n",
            "0       0.23      Ideal     E     SI2   61.5   55.0    326  3.95  3.98  2.43\n",
            "1       0.21    Premium     E     SI1   59.8   61.0    326  3.89  3.84  2.31\n",
            "2       0.23       Good     E     VS1   56.9   65.0    327  4.05  4.07  2.31\n",
            "3       0.29    Premium     I     VS2   62.4   58.0    334  4.20  4.23  2.63\n",
            "4       0.31       Good     J     SI2   63.3   58.0    335  4.34  4.35  2.75\n",
            "...      ...        ...   ...     ...    ...    ...    ...   ...   ...   ...\n",
            "53935   0.72      Ideal     D     SI1   60.8   57.0   2757  5.75  5.76  3.50\n",
            "53936   0.72       Good     D     SI1   63.1   55.0   2757  5.69  5.75  3.61\n",
            "53937   0.70  Very Good     D     SI1   62.8   60.0   2757  5.66  5.68  3.56\n",
            "53938   0.86    Premium     H     SI2   61.0   58.0   2757  6.15  6.12  3.74\n",
            "53939   0.75      Ideal     D     SI2   62.2   55.0   2757  5.83  5.87  3.64\n",
            "\n",
            "[53940 rows x 10 columns]\n"
          ],
          "name": "stdout"
        }
      ]
    },
    {
      "cell_type": "code",
      "metadata": {
        "id": "XyyhsJ7SXaMb",
        "colab": {
          "base_uri": "https://localhost:8080/",
          "height": 772
        },
        "outputId": "bc2bbf95-bb18-4809-f70b-d0a4303838fd"
      },
      "source": [
        "fig, ax = plt.subplots()\n",
        "diamonds[[\"carat\"]].plot(figsize=(15, 10), ylim=(0, 15), ax=ax, style=['s--','o--'])\n",
        "size_column.plot(ax=ax, legend=True, label=\"volume\")"
      ],
      "execution_count": null,
      "outputs": [
        {
          "output_type": "error",
          "ename": "NameError",
          "evalue": "ignored",
          "traceback": [
            "\u001b[0;31m---------------------------------------------------------------------------\u001b[0m",
            "\u001b[0;31mNameError\u001b[0m                                 Traceback (most recent call last)",
            "\u001b[0;32m<ipython-input-5-495e3c7afe6f>\u001b[0m in \u001b[0;36m<module>\u001b[0;34m()\u001b[0m\n\u001b[1;32m      1\u001b[0m \u001b[0mfig\u001b[0m\u001b[0;34m,\u001b[0m \u001b[0max\u001b[0m \u001b[0;34m=\u001b[0m \u001b[0mplt\u001b[0m\u001b[0;34m.\u001b[0m\u001b[0msubplots\u001b[0m\u001b[0;34m(\u001b[0m\u001b[0;34m)\u001b[0m\u001b[0;34m\u001b[0m\u001b[0;34m\u001b[0m\u001b[0m\n\u001b[1;32m      2\u001b[0m \u001b[0mdiamonds\u001b[0m\u001b[0;34m[\u001b[0m\u001b[0;34m[\u001b[0m\u001b[0;34m\"carat\"\u001b[0m\u001b[0;34m]\u001b[0m\u001b[0;34m]\u001b[0m\u001b[0;34m.\u001b[0m\u001b[0mplot\u001b[0m\u001b[0;34m(\u001b[0m\u001b[0mfigsize\u001b[0m\u001b[0;34m=\u001b[0m\u001b[0;34m(\u001b[0m\u001b[0;36m15\u001b[0m\u001b[0;34m,\u001b[0m \u001b[0;36m10\u001b[0m\u001b[0;34m)\u001b[0m\u001b[0;34m,\u001b[0m \u001b[0mylim\u001b[0m\u001b[0;34m=\u001b[0m\u001b[0;34m(\u001b[0m\u001b[0;36m0\u001b[0m\u001b[0;34m,\u001b[0m \u001b[0;36m15\u001b[0m\u001b[0;34m)\u001b[0m\u001b[0;34m,\u001b[0m \u001b[0max\u001b[0m\u001b[0;34m=\u001b[0m\u001b[0max\u001b[0m\u001b[0;34m,\u001b[0m \u001b[0mstyle\u001b[0m\u001b[0;34m=\u001b[0m\u001b[0;34m[\u001b[0m\u001b[0;34m's--'\u001b[0m\u001b[0;34m,\u001b[0m\u001b[0;34m'o--'\u001b[0m\u001b[0;34m]\u001b[0m\u001b[0;34m)\u001b[0m\u001b[0;34m\u001b[0m\u001b[0;34m\u001b[0m\u001b[0m\n\u001b[0;32m----> 3\u001b[0;31m \u001b[0msize_column\u001b[0m\u001b[0;34m.\u001b[0m\u001b[0mplot\u001b[0m\u001b[0;34m(\u001b[0m\u001b[0max\u001b[0m\u001b[0;34m=\u001b[0m\u001b[0max\u001b[0m\u001b[0;34m,\u001b[0m \u001b[0mlegend\u001b[0m\u001b[0;34m=\u001b[0m\u001b[0;32mTrue\u001b[0m\u001b[0;34m,\u001b[0m \u001b[0mlabel\u001b[0m\u001b[0;34m=\u001b[0m\u001b[0;34m\"volume\"\u001b[0m\u001b[0;34m)\u001b[0m\u001b[0;34m\u001b[0m\u001b[0;34m\u001b[0m\u001b[0m\n\u001b[0m",
            "\u001b[0;31mNameError\u001b[0m: name 'size_column' is not defined"
          ]
        },
        {
          "output_type": "display_data",
          "data": {
            "image/png": "[encoded data removed]",
            "text/plain": [
              "<Figure size 1080x720 with 1 Axes>"
            ]
          },
          "metadata": {
            "needs_background": "light"
          }
        }
      ]
    },
    {
      "cell_type": "markdown",
      "metadata": {
        "id": "Y2ET3GdW0LPX"
      },
      "source": [
        "this class is deprecated dont use it, its here to run legacy  code and legacy code only."
      ]
    },
    {
      "cell_type": "code",
      "metadata": {
        "id": "HdSCEnT9ePF3"
      },
      "source": [
        "from sklearn.base import BaseEstimator, TransformerMixin\n",
        "\n",
        "# Create a class to select numerical or categorical columns \n",
        "class DataFrameSelector(BaseEstimator, TransformerMixin):\n",
        "    def __init__(self, attribute_names):\n",
        "        self.attribute_names = attribute_names\n",
        "    def fit(self, X, y=None):\n",
        "        return self\n",
        "    def transform(self, X):\n",
        "        return X[self.attribute_names].values"
      ],
      "execution_count": null,
      "outputs": []
    },
    {
      "cell_type": "markdown",
      "metadata": {
        "id": "hq8SGSYgjmyL"
      },
      "source": [
        "Error warning: if you have a transformer that returns a numpy array and it is followed by a transformer that expects a `df` then the second will spit out an incomprehensible error message."
      ]
    },
    {
      "cell_type": "code",
      "metadata": {
        "id": "fcKFrw4RbCZA"
      },
      "source": [
        "from sklearn.pipeline import Pipeline\n",
        "from sklearn.preprocessing import StandardScaler\n",
        "\n",
        "num_attribs = [\"x\", \"y\", \"z\", \"carat\", \"table\", \"depth\"]\n",
        "\n",
        "num_pipeline = Pipeline([\n",
        "  ('volume_calc', VolumeCalculator()),\n",
        "  ('std_scaler', StandardScaler()),\n",
        "])"
      ],
      "execution_count": null,
      "outputs": []
    },
    {
      "cell_type": "code",
      "metadata": {
        "id": "MTE_MwPdbVyb"
      },
      "source": [
        "from sklearn.preprocessing import OneHotEncoder\n",
        "\n",
        "cat_attribs = [\"clarity\", \"cut\", \"color\"]"
      ],
      "execution_count": null,
      "outputs": []
    },
    {
      "cell_type": "code",
      "metadata": {
        "colab": {
          "base_uri": "https://localhost:8080/"
        },
        "id": "tA4qCBXBt32d",
        "outputId": "c01464ea-3d07-4d0b-fd43-551ccb244af2"
      },
      "source": [
        "num_pipeline.fit_transform(diamonds[num_attribs])"
      ],
      "execution_count": null,
      "outputs": [
        {
          "output_type": "execute_result",
          "data": {
            "text/plain": [
              "array([[-1.57112919, -1.19816781, -1.09967199, -0.17409151, -1.58303551],\n",
              "       [-1.74117497, -1.24036129,  1.58552871, -1.36073849, -1.7006671 ],\n",
              "       [-1.74117497, -1.19816781,  3.37566251, -3.38501862, -1.58689114],\n",
              "       ...,\n",
              "       [ 0.03013526, -0.20662095,  1.13799526,  0.73334442, -0.02550302],\n",
              "       [ 0.28520393,  0.13092691,  0.24292836, -0.52310533,  0.33765684],\n",
              "       [ 0.14349912, -0.10113725, -1.09967199,  0.31452784,  0.12013235]])"
            ]
          },
          "metadata": {},
          "execution_count": 9
        }
      ]
    },
    {
      "cell_type": "code",
      "metadata": {
        "id": "iMr0M5mUgowd"
      },
      "source": [
        "from sklearn.compose import ColumnTransformer\n",
        "\n",
        "full_pipeline = ColumnTransformer([\n",
        "   (\"numerical\", num_pipeline, num_attribs),\n",
        "   (\"categorical\", OneHotEncoder(), cat_attribs)\n",
        " ])"
      ],
      "execution_count": null,
      "outputs": []
    },
    {
      "cell_type": "markdown",
      "metadata": {
        "id": "ikeUNMZsAYPA"
      },
      "source": [
        "remember to use `fit_transform()` and not transform here so as to not compute a new mean/variance for the `StandardScaler`.\n",
        "\n",
        "https://towardsdatascience.com/what-and-why-behind-fit-transform-vs-transform-in-scikit-learn-78f915cf96fe"
      ]
    },
    {
      "cell_type": "code",
      "metadata": {
        "colab": {
          "base_uri": "https://localhost:8080/"
        },
        "id": "kTUfoQT0hRYt",
        "outputId": "a61551b5-e5c1-4bab-cde6-b6b169a60846"
      },
      "source": [
        "full_pipeline.fit_transform(diamonds)"
      ],
      "execution_count": null,
      "outputs": [
        {
          "output_type": "execute_result",
          "data": {
            "text/plain": [
              "array([[-1.57112919, -1.19816781, -1.09967199, ...,  0.        ,\n",
              "         0.        ,  0.        ],\n",
              "       [-1.74117497, -1.24036129,  1.58552871, ...,  0.        ,\n",
              "         0.        ,  0.        ],\n",
              "       [-1.74117497, -1.19816781,  3.37566251, ...,  0.        ,\n",
              "         0.        ,  0.        ],\n",
              "       ...,\n",
              "       [ 0.03013526, -0.20662095,  1.13799526, ...,  0.        ,\n",
              "         0.        ,  0.        ],\n",
              "       [ 0.28520393,  0.13092691,  0.24292836, ...,  1.        ,\n",
              "         0.        ,  0.        ],\n",
              "       [ 0.14349912, -0.10113725, -1.09967199, ...,  0.        ,\n",
              "         0.        ,  0.        ]])"
            ]
          },
          "metadata": {},
          "execution_count": 11
        }
      ]
    },
    {
      "cell_type": "code",
      "metadata": {
        "colab": {
          "base_uri": "https://localhost:8080/"
        },
        "id": "J8EQ00j9vai0",
        "outputId": "38f51035-85cb-4eee-8c4d-dfdd2a0312a7"
      },
      "source": [
        "diamonds_prepped = full_pipeline.fit_transform(diamonds)\n",
        "print(diamonds_prepped[:5])"
      ],
      "execution_count": null,
      "outputs": [
        {
          "output_type": "stream",
          "text": [
            "[[-1.57112919 -1.19816781 -1.09967199 -0.17409151 -1.58303551  0.\n",
            "   0.          0.          1.          0.          0.          0.\n",
            "   0.          0.          0.          1.          0.          0.\n",
            "   0.          1.          0.          0.          0.          0.\n",
            "   0.        ]\n",
            " [-1.74117497 -1.24036129  1.58552871 -1.36073849 -1.7006671   0.\n",
            "   0.          1.          0.          0.          0.          0.\n",
            "   0.          0.          0.          0.          1.          0.\n",
            "   0.          1.          0.          0.          0.          0.\n",
            "   0.        ]\n",
            " [-1.74117497 -1.19816781  3.37566251 -3.38501862 -1.58689114  0.\n",
            "   0.          0.          0.          1.          0.          0.\n",
            "   0.          0.          1.          0.          0.          0.\n",
            "   0.          1.          0.          0.          0.          0.\n",
            "   0.        ]\n",
            " [-1.28771955 -1.07158736  0.24292836  0.45413336 -1.33814533  0.\n",
            "   0.          0.          0.          0.          1.          0.\n",
            "   0.          0.          0.          0.          1.          0.\n",
            "   0.          0.          0.          0.          0.          1.\n",
            "   0.        ]\n",
            " [-1.11767377 -1.02939387  0.24292836  1.08235823 -1.20329326  0.\n",
            "   0.          0.          1.          0.          0.          0.\n",
            "   0.          0.          1.          0.          0.          0.\n",
            "   0.          0.          0.          0.          0.          0.\n",
            "   1.        ]]\n"
          ],
          "name": "stdout"
        }
      ]
    },
    {
      "cell_type": "code",
      "metadata": {
        "id": "dNIq3y42vn2E"
      },
      "source": [
        "from sklearn.model_selection import train_test_split\n",
        "\n",
        "train_set, test_set = train_test_split(diamonds, test_size=0.2, random_state=42)"
      ],
      "execution_count": null,
      "outputs": []
    },
    {
      "cell_type": "code",
      "metadata": {
        "colab": {
          "base_uri": "https://localhost:8080/"
        },
        "id": "ZPqRGJ7j_ofY",
        "outputId": "d519f31f-412c-4998-a1a6-a39da5d0103b"
      },
      "source": [
        "full_pipeline.transform(train_set)"
      ],
      "execution_count": null,
      "outputs": [
        {
          "output_type": "execute_result",
          "data": {
            "text/plain": [
              "array([[ 1.74476356,  2.55705218,  2.92812906, ...,  0.        ,\n",
              "         0.        ,  0.        ],\n",
              "       [ 0.54027261,  0.44737803,  1.13799526, ...,  0.        ,\n",
              "         0.        ,  0.        ],\n",
              "       [ 0.79534128,  0.63724871,  0.24292836, ...,  1.        ,\n",
              "         0.        ,  0.        ],\n",
              "       ...,\n",
              "       [-1.18852618, -0.98720039,  0.24292836, ...,  0.        ,\n",
              "         0.        ,  0.        ],\n",
              "       [ 0.39856779,  0.21531388,  0.69046181, ...,  0.        ,\n",
              "         0.        ,  1.        ],\n",
              "       [ 0.80951176,  0.72163567,  0.24292836, ...,  0.        ,\n",
              "         0.        ,  0.        ]])"
            ]
          },
          "metadata": {},
          "execution_count": 14
        }
      ]
    },
    {
      "cell_type": "code",
      "metadata": {
        "colab": {
          "base_uri": "https://localhost:8080/"
        },
        "id": "asa1Hg1-v_b-",
        "outputId": "a9a53b4c-815c-4a92-8bae-c57e9b37768c"
      },
      "source": [
        "from sklearn.tree import DecisionTreeRegressor\n",
        "tree_reg = DecisionTreeRegressor()\n",
        "prepped_train_set, training_labels = full_pipeline.transform(train_set), train_set[\"price\"]\n",
        "\n",
        "\n",
        "\n",
        "tree_reg.fit(prepped_train_set, training_labels)"
      ],
      "execution_count": null,
      "outputs": [
        {
          "output_type": "execute_result",
          "data": {
            "text/plain": [
              "DecisionTreeRegressor(ccp_alpha=0.0, criterion='mse', max_depth=None,\n",
              "                      max_features=None, max_leaf_nodes=None,\n",
              "                      min_impurity_decrease=0.0, min_impurity_split=None,\n",
              "                      min_samples_leaf=1, min_samples_split=2,\n",
              "                      min_weight_fraction_leaf=0.0, presort='deprecated',\n",
              "                      random_state=None, splitter='best')"
            ]
          },
          "metadata": {},
          "execution_count": 15
        }
      ]
    },
    {
      "cell_type": "code",
      "metadata": {
        "colab": {
          "base_uri": "https://localhost:8080/"
        },
        "id": "O5zv_1cVxkeP",
        "outputId": "b2d3fc3a-65a6-4d38-d18a-8b8d78127d0c"
      },
      "source": [
        "some_data, test_labels = full_pipeline.transform(test_set), test_set[\"price\"]\n",
        "tree_reg_predictions = tree_reg.predict(some_data)\n",
        "for i in range(10):\n",
        "  print(\"preictions\", tree_reg_predictions[i], \"labels\", test_labels.to_numpy()[i])"
      ],
      "execution_count": null,
      "outputs": [
        {
          "output_type": "stream",
          "text": [
            "preictions 559.0 labels 559\n",
            "preictions 2189.0 labels 2201\n",
            "preictions 1158.0 labels 1238\n",
            "preictions 1334.0 labels 1304\n",
            "preictions 11220.0 labels 6901\n",
            "preictions 3991.0 labels 3011\n",
            "preictions 2346.0 labels 1765\n",
            "preictions 1906.5 labels 1679\n",
            "preictions 2205.0 labels 2102\n",
            "preictions 7100.0 labels 4789\n"
          ],
          "name": "stdout"
        }
      ]
    },
    {
      "cell_type": "code",
      "metadata": {
        "id": "oFJB30I8J_LZ"
      },
      "source": [
        "from sklearn.model_selection import cross_val_score\n",
        "from sklearn.metrics import mean_absolute_error, mean_squared_error"
      ],
      "execution_count": null,
      "outputs": []
    },
    {
      "cell_type": "code",
      "metadata": {
        "id": "eXZZFDTgJTS0"
      },
      "source": [
        "def eval_model(model, training_data, train_labels, test_data, test_labels):\n",
        "    predictions = model.predict(test_data)\n",
        "\n",
        "    print(\"Predicitions: \", *predictions[:5])\n",
        "    print(\"Labels: \", *test_labels[:5])\n",
        "\n",
        "    mse = mean_squared_error(test_labels, predictions)\n",
        "    print(\"MSE: \", mse, \", RMSE: \", np.sqrt(mse), \", MAE: \", mean_absolute_error(test_labels, predictions))\n",
        "\n",
        "    scores = cross_val_score(model, training_data, train_labels, scoring=\"neg_mean_squared_error\", cv=10)\n",
        "    \n",
        "    rmse_scores = np.sqrt(-scores)\n",
        "    print(\"RMSE Scores: \", *rmse_scores)\n",
        "    print(\"Mean: \", rmse_scores.mean(), \", STD: \", rmse_scores.std())"
      ],
      "execution_count": null,
      "outputs": []
    },
    {
      "cell_type": "code",
      "metadata": {
        "colab": {
          "base_uri": "https://localhost:8080/"
        },
        "id": "vEd3YQqiJnsy",
        "outputId": "e2c428c1-5379-493a-c685-a104af75c177"
      },
      "source": [
        "eval_model(tree_reg, prepped_train_set, training_labels, some_data, test_labels)"
      ],
      "execution_count": null,
      "outputs": [
        {
          "output_type": "stream",
          "text": [
            "Predicitions:  559.0 2189.0 1158.0 1334.0 11220.0\n",
            "Labels:  559 2201 1238 1304 6901\n",
            "MSE:  551440.7880103406 , RMSE:  742.5905924601662 , MAE:  360.31695711284146\n",
            "RMSE Scores:  719.4370401998732 721.3575049175586 783.2872354022317 712.4090874758092 746.4177860487957 714.2827620910501 751.9702029474089 688.1223744843625 718.9074555808369 747.4966679122903\n",
            "Mean:  730.3688117060217 , STD:  25.526568145412075\n"
          ],
          "name": "stdout"
        }
      ]
    },
    {
      "cell_type": "code",
      "metadata": {
        "colab": {
          "base_uri": "https://localhost:8080/"
        },
        "id": "j2iGxfVxIcNw",
        "outputId": "acd5ee3d-c57d-4a6a-a51d-e69e8af47105"
      },
      "source": [
        "carat_num_pipeline = Pipeline([\n",
        "  ('volume_calc', VolumeCalculator(include_carat=True)),\n",
        "  ('std_scaler', StandardScaler()),\n",
        "])\n",
        "\n",
        "full_pipeline_with_carat = ColumnTransformer([\n",
        "   (\"numerical\", carat_num_pipeline, num_attribs),\n",
        "   (\"categorical\", OneHotEncoder(), cat_attribs)\n",
        " ])\n",
        "#create new pipelines\n",
        "training_data_with_carat = full_pipeline_with_carat.fit_transform(train_set)\n",
        "#create training set\n",
        "print(training_data_with_carat[:5])"
      ],
      "execution_count": null,
      "outputs": [
        {
          "output_type": "stream",
          "text": [
            "  (0, 0)\t1.7382067062179185\n",
            "  (0, 1)\t2.933860551957393\n",
            "  (0, 2)\t-2.550747615248908\n",
            "  (0, 3)\t2.2011645561643363\n",
            "  (0, 7)\t1.0\n",
            "  (0, 13)\t1.0\n",
            "  (0, 19)\t1.0\n",
            "  (1, 0)\t0.5377332010575323\n",
            "  (1, 1)\t1.1395745344447317\n",
            "  (1, 2)\t-1.2204264729604153\n",
            "  (1, 3)\t0.6046098181335481\n",
            "  (1, 7)\t1.0\n",
            "  (1, 16)\t1.0\n",
            "  (1, 18)\t1.0\n",
            "  (2, 0)\t0.7919511197973784\n",
            "  (2, 1)\t0.24243152568840112\n",
            "  (2, 2)\t0.5299960826823396\n",
            "  (2, 3)\t0.7482266045866318\n",
            "  (2, 9)\t1.0\n",
            "  (2, 15)\t1.0\n",
            "  (2, 21)\t1.0\n",
            "  (3, 0)\t1.243894086445995\n",
            "  (3, 1)\t3.382432056335558\n",
            "  (3, 2)\t-0.1701729395747624\n",
            "  (3, 3)\t1.3800498676318216\n",
            "  (3, 7)\t1.0\n",
            "  (3, 13)\t1.0\n",
            "  (3, 18)\t1.0\n",
            "  (4, 0)\t1.3992494812314573\n",
            "  (4, 1)\t-0.20613997868976416\n",
            "  (4, 2)\t0.24992847377949975\n",
            "  (4, 3)\t1.4605559223661295\n",
            "  (4, 8)\t1.0\n",
            "  (4, 16)\t1.0\n",
            "  (4, 20)\t1.0\n"
          ],
          "name": "stdout"
        }
      ]
    },
    {
      "cell_type": "code",
      "metadata": {
        "colab": {
          "base_uri": "https://localhost:8080/"
        },
        "id": "F4haohJgCuOP",
        "outputId": "3f80a0c9-e3e3-417b-e4aa-afc5f3950823"
      },
      "source": [
        "tree_reg_with_carat = DecisionTreeRegressor()\n",
        "tree_reg_with_carat.fit(training_data_with_carat, train_set[\"price\"])\n",
        "#train\n",
        "test_set_with_carat = full_pipeline_with_carat.transform(test_set)\n",
        "tree_reg_predictions_with_carat = tree_reg_with_carat.predict(test_set_with_carat)\n",
        "for i in range(10):\n",
        "  print(\"preictions\", tree_reg_predictions_with_carat[i], \"labels\", test_labels.to_numpy()[i])"
      ],
      "execution_count": null,
      "outputs": [
        {
          "output_type": "stream",
          "text": [
            "preictions 559.0 labels 559\n",
            "preictions 2351.0 labels 2201\n",
            "preictions 1158.0 labels 1238\n",
            "preictions 1334.0 labels 1304\n",
            "preictions 10698.0 labels 6901\n",
            "preictions 4118.0 labels 3011\n",
            "preictions 1680.0 labels 1765\n",
            "preictions 1701.0 labels 1679\n",
            "preictions 3675.0 labels 2102\n",
            "preictions 5818.0 labels 4789\n"
          ],
          "name": "stdout"
        }
      ]
    },
    {
      "cell_type": "code",
      "metadata": {
        "colab": {
          "base_uri": "https://localhost:8080/"
        },
        "id": "r0FE9O3QL1Qc",
        "outputId": "c535fdbc-8b6a-49df-be3a-88eec54fff97"
      },
      "source": [
        "eval_model(tree_reg_with_carat, training_data_with_carat, training_labels, test_set_with_carat, test_labels)"
      ],
      "execution_count": null,
      "outputs": [
        {
          "output_type": "stream",
          "text": [
            "Predicitions:  559.0 2351.0 1158.0 1334.0 10698.0\n",
            "Labels:  559 2201 1238 1304 6901\n",
            "MSE:  528801.1181868743 , RMSE:  727.187127352289 , MAE:  353.45133481646275\n",
            "RMSE Scores:  739.466739072364 766.5480070587114 801.197007261288 771.436431374357 742.3494448581406 750.2836709279223 764.7321735341832 734.3477812374871 709.7067975190191 789.054836550877\n",
            "Mean:  756.9122889394349 , STD:  25.801367519447954\n"
          ],
          "name": "stdout"
        }
      ]
    },
    {
      "cell_type": "markdown",
      "metadata": {
        "id": "lOMgzitMDssY"
      },
      "source": [
        "conclusion: dont lump in carats with the rest of the dimensions."
      ]
    },
    {
      "cell_type": "markdown",
      "metadata": {
        "id": "XXZjOEelZ3lc"
      },
      "source": [
        "now we try training without transforming `xyz` into  a single feature"
      ]
    },
    {
      "cell_type": "code",
      "metadata": {
        "colab": {
          "base_uri": "https://localhost:8080/"
        },
        "id": "13EbAJ4FD368",
        "outputId": "6c93024b-0292-4fd4-d733-0f0e3054bc30"
      },
      "source": [
        "xyz_num_pipeline = Pipeline([\n",
        "  ('std_scaler', StandardScaler()),\n",
        "])\n",
        "\n",
        "full_pipeline_with_xyz = ColumnTransformer([\n",
        "   (\"numerical\", xyz_num_pipeline, num_attribs),\n",
        "   (\"categorical\", OneHotEncoder(), cat_attribs)\n",
        " ])\n",
        "\n",
        "\n",
        "xyz_tree_reg = DecisionTreeRegressor()\n",
        "xyz_prepped_train_set = full_pipeline_with_xyz.fit_transform(train_set)\n",
        "\n",
        "\n",
        "\n",
        "xyz_tree_reg.fit(xyz_prepped_train_set, training_labels)\n",
        "\n",
        "xyz_test_set = full_pipeline_with_xyz.fit_transform(test_set)\n",
        "\n",
        "xyz_tree_reg_predictions = xyz_tree_reg.predict(xyz_test_set)\n",
        "for i in range(10):\n",
        "  print(\"preictions\", xyz_tree_reg_predictions[i], \"labels\", test_labels.to_numpy()[i])"
      ],
      "execution_count": null,
      "outputs": [
        {
          "output_type": "stream",
          "text": [
            "preictions 582.0 labels 559\n",
            "preictions 2119.0 labels 2201\n",
            "preictions 1238.0 labels 1238\n",
            "preictions 1334.0 labels 1304\n",
            "preictions 10781.0 labels 6901\n",
            "preictions 4171.0 labels 3011\n",
            "preictions 1812.0 labels 1765\n",
            "preictions 1694.0 labels 1679\n",
            "preictions 2022.0 labels 2102\n",
            "preictions 5092.0 labels 4789\n"
          ],
          "name": "stdout"
        }
      ]
    },
    {
      "cell_type": "code",
      "metadata": {
        "colab": {
          "base_uri": "https://localhost:8080/"
        },
        "id": "_k5IKqQFUwrC",
        "outputId": "64b2f3da-1a62-437d-cf6b-30dd8c6de961"
      },
      "source": [
        "eval_model(xyz_tree_reg, xyz_prepped_train_set, training_labels, xyz_test_set, test_labels)"
      ],
      "execution_count": null,
      "outputs": [
        {
          "output_type": "stream",
          "text": [
            "Predicitions:  582.0 2119.0 1238.0 1334.0 10781.0\n",
            "Labels:  559 2201 1238 1304 6901\n",
            "MSE:  556173.3255700779 , RMSE:  745.770290082729 , MAE:  374.97362810530217\n",
            "RMSE Scores:  705.8493548123877 749.6261087652559 774.1618412019008 751.5671771601477 781.8395404644125 746.3245963189768 776.4559650380088 700.2717398393377 769.9396291287369 728.2006961558109\n",
            "Mean:  748.4236648884976 , STD:  27.53852372151167\n"
          ],
          "name": "stdout"
        }
      ]
    },
    {
      "cell_type": "markdown",
      "metadata": {
        "id": "31zPsxprXw5b"
      },
      "source": [
        "pipeline summary: \n",
        "*  `full_pipeline_with_carat` is the pipeline with the lowest MAE  and RMSE so we use that to train the rest of the models, it compresses `carat` and `xyz` into one feature using the equation $\\sqrt[4]{x*y*z*carat}$, this is because they are all highly correlatec\n",
        "* `full_pipeline_with_xyz` is the second best pipeline, it does not modify* any * of the features.\n",
        "* `full_pipeline` compresses `xyz` into one feature using $\\sqrt[3]{x*y*z}$\n",
        "\n",
        "\n",
        "\n",
        "\n",
        "## Now we start fine tuning "
      ]
    },
    {
      "cell_type": "markdown",
      "metadata": {
        "id": "AcIwlTSTYxlR"
      },
      "source": [
        "**Grid Search**"
      ]
    },
    {
      "cell_type": "code",
      "metadata": {
        "colab": {
          "base_uri": "https://localhost:8080/"
        },
        "id": "9emakGKwYygh",
        "outputId": "e12dac20-30f4-42e5-e173-574645ebf9cf"
      },
      "source": [
        "from sklearn.ensemble import RandomForestRegressor\n",
        "\n",
        "from sklearn.model_selection import GridSearchCV\n",
        "param_grid = [\n",
        " {'n_estimators': [3, 10, 30], 'max_features': [2, 4, 6, 8]},\n",
        " {'bootstrap': [False], 'n_estimators': [3, 10], 'max_features': [2, 3, 4]},\n",
        " ]\n",
        "forest_reg = RandomForestRegressor()\n",
        "grid_search = GridSearchCV(forest_reg, param_grid, cv=5,\n",
        " scoring='neg_mean_squared_error',\n",
        "return_train_score=True)\n",
        "grid_search.fit(prepped_train_set,training_labels)\n"
      ],
      "execution_count": null,
      "outputs": [
        {
          "output_type": "execute_result",
          "data": {
            "text/plain": [
              "GridSearchCV(cv=5, error_score=nan,\n",
              "             estimator=RandomForestRegressor(bootstrap=True, ccp_alpha=0.0,\n",
              "                                             criterion='mse', max_depth=None,\n",
              "                                             max_features='auto',\n",
              "                                             max_leaf_nodes=None,\n",
              "                                             max_samples=None,\n",
              "                                             min_impurity_decrease=0.0,\n",
              "                                             min_impurity_split=None,\n",
              "                                             min_samples_leaf=1,\n",
              "                                             min_samples_split=2,\n",
              "                                             min_weight_fraction_leaf=0.0,\n",
              "                                             n_estimators=100, n_jobs=None,\n",
              "                                             oob_score=False, random_state=None,\n",
              "                                             verbose=0, warm_start=False),\n",
              "             iid='deprecated', n_jobs=None,\n",
              "             param_grid=[{'max_features': [2, 4, 6, 8],\n",
              "                          'n_estimators': [3, 10, 30]},\n",
              "                         {'bootstrap': [False], 'max_features': [2, 3, 4],\n",
              "                          'n_estimators': [3, 10]}],\n",
              "             pre_dispatch='2*n_jobs', refit=True, return_train_score=True,\n",
              "             scoring='neg_mean_squared_error', verbose=0)"
            ]
          },
          "metadata": {},
          "execution_count": 25
        }
      ]
    },
    {
      "cell_type": "markdown",
      "metadata": {
        "id": "PeRQ-m9AzlTW"
      },
      "source": [
        "note: we are using pipeline 1 for the search"
      ]
    },
    {
      "cell_type": "code",
      "metadata": {
        "colab": {
          "base_uri": "https://localhost:8080/"
        },
        "id": "-6ROT056bjI_",
        "outputId": "b780b8f7-734b-4222-965d-a2c14fea32da"
      },
      "source": [
        "grid_search.best_params_"
      ],
      "execution_count": null,
      "outputs": [
        {
          "output_type": "execute_result",
          "data": {
            "text/plain": [
              "{'max_features': 8, 'n_estimators': 30}"
            ]
          },
          "metadata": {},
          "execution_count": 26
        }
      ]
    },
    {
      "cell_type": "code",
      "metadata": {
        "colab": {
          "base_uri": "https://localhost:8080/"
        },
        "id": "xunawsCwbmKu",
        "outputId": "1f734015-ceea-4759-d95d-306f0608fd0f"
      },
      "source": [
        "grid_search.best_estimator_"
      ],
      "execution_count": null,
      "outputs": [
        {
          "output_type": "execute_result",
          "data": {
            "text/plain": [
              "RandomForestRegressor(bootstrap=True, ccp_alpha=0.0, criterion='mse',\n",
              "                      max_depth=None, max_features=8, max_leaf_nodes=None,\n",
              "                      max_samples=None, min_impurity_decrease=0.0,\n",
              "                      min_impurity_split=None, min_samples_leaf=1,\n",
              "                      min_samples_split=2, min_weight_fraction_leaf=0.0,\n",
              "                      n_estimators=30, n_jobs=None, oob_score=False,\n",
              "                      random_state=None, verbose=0, warm_start=False)"
            ]
          },
          "metadata": {},
          "execution_count": 27
        }
      ]
    },
    {
      "cell_type": "markdown",
      "metadata": {
        "id": "WtIDOLdxz7VR"
      },
      "source": [
        "notice how the best params are the highest ones, maybe we should aim higher then"
      ]
    },
    {
      "cell_type": "code",
      "metadata": {
        "colab": {
          "base_uri": "https://localhost:8080/"
        },
        "id": "NVT0y5MfzbPn",
        "outputId": "460e186a-17b6-4c82-c5cb-f73ebaa411a6"
      },
      "source": [
        "param_grid2 = [\n",
        " {'n_estimators': [30, 35, 40], 'max_features': [8, 12, 16]},\n",
        " {'bootstrap': [False], 'n_estimators': [10, 20], 'max_features': [3, 4, 8]},\n",
        " ]\n",
        "forest_reg2 = RandomForestRegressor()\n",
        "grid_search2 = GridSearchCV(forest_reg2, param_grid2, cv=5,\n",
        " scoring='neg_mean_squared_error',\n",
        "return_train_score=True)\n",
        "grid_search2.fit(prepped_train_set, training_labels)"
      ],
      "execution_count": null,
      "outputs": [
        {
          "output_type": "execute_result",
          "data": {
            "text/plain": [
              "GridSearchCV(cv=5, error_score=nan,\n",
              "             estimator=RandomForestRegressor(bootstrap=True, ccp_alpha=0.0,\n",
              "                                             criterion='mse', max_depth=None,\n",
              "                                             max_features='auto',\n",
              "                                             max_leaf_nodes=None,\n",
              "                                             max_samples=None,\n",
              "                                             min_impurity_decrease=0.0,\n",
              "                                             min_impurity_split=None,\n",
              "                                             min_samples_leaf=1,\n",
              "                                             min_samples_split=2,\n",
              "                                             min_weight_fraction_leaf=0.0,\n",
              "                                             n_estimators=100, n_jobs=None,\n",
              "                                             oob_score=False, random_state=None,\n",
              "                                             verbose=0, warm_start=False),\n",
              "             iid='deprecated', n_jobs=None,\n",
              "             param_grid=[{'max_features': [8, 12, 16],\n",
              "                          'n_estimators': [30, 35, 40]},\n",
              "                         {'bootstrap': [False], 'max_features': [3, 4, 8],\n",
              "                          'n_estimators': [10, 20]}],\n",
              "             pre_dispatch='2*n_jobs', refit=True, return_train_score=True,\n",
              "             scoring='neg_mean_squared_error', verbose=0)"
            ]
          },
          "metadata": {},
          "execution_count": 28
        }
      ]
    },
    {
      "cell_type": "code",
      "metadata": {
        "colab": {
          "base_uri": "https://localhost:8080/"
        },
        "id": "PC4fL5eZ0Coi",
        "outputId": "de0136e3-1ceb-4e64-d7ca-aa024d3cd6ea"
      },
      "source": [
        "grid_search2.best_params_"
      ],
      "execution_count": null,
      "outputs": [
        {
          "output_type": "execute_result",
          "data": {
            "text/plain": [
              "{'max_features': 16, 'n_estimators': 40}"
            ]
          },
          "metadata": {},
          "execution_count": 29
        }
      ]
    },
    {
      "cell_type": "markdown",
      "metadata": {
        "id": "n64ZXwUG29iM"
      },
      "source": [
        "it appears that after taking the original hyper parameters to the semi finals, a better configuration has been found."
      ]
    },
    {
      "cell_type": "code",
      "metadata": {
        "id": "xAW5IUtfbo9P",
        "colab": {
          "base_uri": "https://localhost:8080/"
        },
        "outputId": "79106b8e-3757-44dc-e044-ce6533cb2361"
      },
      "source": [
        "cvres = grid_search2.cv_results_\n",
        "for mean_score, params in zip(cvres[\"mean_test_score\"], cvres[\"params\"]):\n",
        "  print(np.sqrt(-mean_score), params)"
      ],
      "execution_count": null,
      "outputs": [
        {
          "output_type": "stream",
          "text": [
            "568.7510759382178 {'max_features': 8, 'n_estimators': 30}\n",
            "565.8669262968594 {'max_features': 8, 'n_estimators': 35}\n",
            "567.6907589385348 {'max_features': 8, 'n_estimators': 40}\n",
            "560.8889119932319 {'max_features': 12, 'n_estimators': 30}\n",
            "561.7530670697305 {'max_features': 12, 'n_estimators': 35}\n",
            "560.8162777552114 {'max_features': 12, 'n_estimators': 40}\n",
            "562.4100214952206 {'max_features': 16, 'n_estimators': 30}\n",
            "559.4233916559373 {'max_features': 16, 'n_estimators': 35}\n",
            "558.9360031009023 {'max_features': 16, 'n_estimators': 40}\n",
            "645.7058848001207 {'bootstrap': False, 'max_features': 3, 'n_estimators': 10}\n",
            "625.5606609499589 {'bootstrap': False, 'max_features': 3, 'n_estimators': 20}\n",
            "624.9814345564214 {'bootstrap': False, 'max_features': 4, 'n_estimators': 10}\n",
            "608.064328959275 {'bootstrap': False, 'max_features': 4, 'n_estimators': 20}\n",
            "595.3252886846299 {'bootstrap': False, 'max_features': 8, 'n_estimators': 10}\n",
            "576.2848794046121 {'bootstrap': False, 'max_features': 8, 'n_estimators': 20}\n"
          ],
          "name": "stdout"
        }
      ]
    },
    {
      "cell_type": "code",
      "metadata": {
        "colab": {
          "base_uri": "https://localhost:8080/"
        },
        "id": "QZ7fhjXknxb1",
        "outputId": "f3fb5f04-6265-4898-b671-687dbc7e56c5"
      },
      "source": [
        "final_model = grid_search2.best_estimator_\n",
        "\n",
        "eval_model(final_model, prepped_train_set, training_labels, some_data, test_labels)"
      ],
      "execution_count": null,
      "outputs": [
        {
          "output_type": "stream",
          "text": [
            "Predicitions:  555.975 2283.625 1168.3333333333335 1234.6496428571427 9924.033333333333\n",
            "Labels:  559 2201 1238 1304 6901\n",
            "MSE:  299147.8293027303 , RMSE:  546.9440824277472 , MAE:  277.25082313314033\n",
            "RMSE Scores:  532.3928963060469 514.2978063866949 618.3653228888226 564.760319828161 563.4220497913667 520.8237312869248 587.7824280257188 504.98840959432624 546.5842414503879 545.4824342659881\n",
            "Mean:  549.8899639824438 , STD:  33.15608102110251\n"
          ],
          "name": "stdout"
        }
      ]
    },
    {
      "cell_type": "markdown",
      "metadata": {
        "id": "9VMYllBJoh-l"
      },
      "source": [
        "Now thats a 20% decrease in MAE and RMSE :D"
      ]
    },
    {
      "cell_type": "code",
      "metadata": {
        "id": "cmqew3rzoya1"
      },
      "source": [
        "final_model_pipeline = Pipeline([\n",
        "    ('data_prep', full_pipeline),\n",
        "    ('predictor', final_model)\n",
        "])"
      ],
      "execution_count": null,
      "outputs": []
    },
    {
      "cell_type": "markdown",
      "metadata": {
        "id": "8dDZ_6Jorq2l"
      },
      "source": [
        "this is pipeline that as a predict method, it calls the `predict` method of the last transformer\n",
        "# IMPORTANT\n",
        "you must use the same pipeline for the data prep as the one used for the training, if you use pipeline A for model training and pipeline B for testing you will get an error message because when you fit the model, the number of features, etc will be adjusted for the model."
      ]
    },
    {
      "cell_type": "code",
      "metadata": {
        "colab": {
          "base_uri": "https://localhost:8080/"
        },
        "id": "RLNyV9bfpfO_",
        "outputId": "8977a89d-14b6-4748-e3ee-9cfcddc11a17"
      },
      "source": [
        "final_model_predictions_test = final_model_pipeline.predict(test_set)\n",
        "print(\"label    prediction\", *zip(test_labels[:20], final_model_predictions_test[:20]), sep='\\n')"
      ],
      "execution_count": null,
      "outputs": [
        {
          "output_type": "stream",
          "text": [
            "label    prediction\n",
            "(559, 555.975)\n",
            "(2201, 2283.625)\n",
            "(1238, 1168.3333333333335)\n",
            "(1304, 1234.6496428571427)\n",
            "(6901, 9924.033333333333)\n",
            "(3011, 4052.55)\n",
            "(1765, 2038.825)\n",
            "(1679, 1812.2692658730157)\n",
            "(2102, 2155.5)\n",
            "(4789, 5857.75)\n",
            "(855, 671.475)\n",
            "(13134, 13167.12083333333)\n",
            "(1367, 1574.825)\n",
            "(2401, 2298.7583333333337)\n",
            "(1440, 2194.5875)\n",
            "(10286, 11345.466666666665)\n",
            "(2958, 3850.525)\n",
            "(1397, 1381.6)\n",
            "(9904, 10954.125)\n",
            "(552, 605.2808333333335)\n"
          ],
          "name": "stdout"
        }
      ]
    },
    {
      "cell_type": "markdown",
      "metadata": {
        "id": "s_wBB7f-bxCj"
      },
      "source": [
        "**Randomized Search**\n",
        "it takes way to long to process so we skipped it "
      ]
    },
    {
      "cell_type": "code",
      "metadata": {
        "id": "UGt25JzXbyIR"
      },
      "source": [
        "#from sklearn.linear_model import LogisticRegression\n",
        "#from sklearn.model_selection import RandomizedSearchCV\n",
        "#from scipy.stats import uniform\n",
        "#logistic = LogisticRegression(solver='saga', tol=1e-2, max_iter=200,random_state=0)\n",
        "#distributions = dict(C=uniform(loc=0, scale=4),penalty=['l2', 'l1'])\n",
        "#clf = RandomizedSearchCV(logistic, distributions, random_state=0)\n",
        "#search = clf.fit(prepped_train_set,training_labels)"
      ],
      "execution_count": null,
      "outputs": []
    },
    {
      "cell_type": "code",
      "metadata": {
        "id": "2s82UHA_b7dy"
      },
      "source": [
        "#search.best_params_"
      ],
      "execution_count": null,
      "outputs": []
    },
    {
      "cell_type": "markdown",
      "metadata": {
        "id": "IRvP25XUtllU"
      },
      "source": [
        "# Model Analysis"
      ]
    },
    {
      "cell_type": "code",
      "metadata": {
        "colab": {
          "base_uri": "https://localhost:8080/"
        },
        "id": "fz_6wt3cjug0",
        "outputId": "75f38a2b-7743-4f6a-f2e7-12e1917a1d48"
      },
      "source": [
        "feature_importances = grid_search.best_estimator_.feature_importances_\n",
        "feature_importances"
      ],
      "execution_count": null,
      "outputs": [
        {
          "output_type": "execute_result",
          "data": {
            "text/plain": [
              "array([1.80754304e-01, 4.05568053e-01, 6.16525574e-03, 6.49061135e-03,\n",
              "       3.04133455e-01, 1.10168530e-02, 5.73663798e-03, 7.28822808e-03,\n",
              "       1.52658536e-02, 3.96681659e-03, 3.26060313e-03, 6.64295633e-03,\n",
              "       7.49076621e-03, 1.11279646e-03, 3.68427880e-04, 1.68172894e-03,\n",
              "       6.38379090e-04, 4.40658460e-04, 3.45727039e-03, 3.08658938e-03,\n",
              "       2.82056707e-03, 2.81360926e-03, 4.34535665e-03, 6.52304592e-03,\n",
              "       8.93117730e-03])"
            ]
          },
          "metadata": {},
          "execution_count": 36
        }
      ]
    },
    {
      "cell_type": "code",
      "metadata": {
        "colab": {
          "base_uri": "https://localhost:8080/"
        },
        "id": "OhA8fuzko1VX",
        "outputId": "d7920ece-0e7c-4923-a9d6-d92a6d83fade"
      },
      "source": [
        "extra_attribs=[\"tree_reg_predictions_with_carat,full_pipeline_with_xyz,full_pipeline\"]\n",
        "cat_encoder = full_pipeline.named_transformers_[\"categorical\"]\n",
        "cat_one_hot_attribs = list(cat_encoder.categories_[0])\n",
        "attributes = num_attribs + extra_attribs + cat_one_hot_attribs\n",
        "sorted(zip(feature_importances, attributes), reverse=True)"
      ],
      "execution_count": null,
      "outputs": [
        {
          "output_type": "execute_result",
          "data": {
            "text/plain": [
              "[(0.4055680526275111, 'y'),\n",
              " (0.3041334547391567, 'table'),\n",
              " (0.18075430375261883, 'x'),\n",
              " (0.015265853640907852, 'IF'),\n",
              " (0.0110168530410427, 'depth'),\n",
              " (0.007490766208145264, 'VS2'),\n",
              " (0.007288228078085281, 'I1'),\n",
              " (0.006642956334516593, 'VS1'),\n",
              " (0.006490611345523796, 'carat'),\n",
              " (0.006165255738066893, 'z'),\n",
              " (0.00573663797786084,\n",
              "  'tree_reg_predictions_with_carat,full_pipeline_with_xyz,full_pipeline'),\n",
              " (0.003966816585492596, 'SI1'),\n",
              " (0.003260603128293254, 'SI2'),\n",
              " (0.0011127964607436606, 'VVS1'),\n",
              " (0.0003684278803255043, 'VVS2')]"
            ]
          },
          "metadata": {},
          "execution_count": 37
        }
      ]
    },
    {
      "cell_type": "code",
      "metadata": {
        "colab": {
          "base_uri": "https://localhost:8080/"
        },
        "id": "yLgb0YZOwGOt",
        "outputId": "7b8097d8-3fe4-4d8f-8095-67c5468c7a7e"
      },
      "source": [
        "from scipy import stats\n",
        "confidence = 0.95\n",
        "squared_errors = (final_model_predictions_test - test_labels) ** 2\n",
        "np.sqrt(stats.t.interval(confidence, len(squared_errors) - 1,\n",
        "    loc=squared_errors.mean(),\n",
        "    scale=stats.sem(squared_errors)))"
      ],
      "execution_count": null,
      "outputs": [
        {
          "output_type": "execute_result",
          "data": {
            "text/plain": [
              "array([521.86201708, 570.92529611])"
            ]
          },
          "metadata": {},
          "execution_count": 38
        }
      ]
    },
    {
      "cell_type": "code",
      "metadata": {
        "colab": {
          "base_uri": "https://localhost:8080/"
        },
        "id": "5duZBvtxvUGC",
        "outputId": "21353c13-a7de-4f38-9b3c-d7e4cadf0bdb"
      },
      "source": [
        "diamonds[\"clarity\"].value_counts().index"
      ],
      "execution_count": null,
      "outputs": [
        {
          "output_type": "execute_result",
          "data": {
            "text/plain": [
              "Index(['SI1', 'VS2', 'SI2', 'VS1', 'VVS2', 'VVS1', 'IF', 'I1'], dtype='object')"
            ]
          },
          "metadata": {},
          "execution_count": 43
        }
      ]
    },
    {
      "cell_type": "code",
      "metadata": {
        "colab": {
          "base_uri": "https://localhost:8080/"
        },
        "id": "cF67nEtQvosi",
        "outputId": "aa68b0a4-3117-4ac5-efae-2a41311bff0a"
      },
      "source": [
        "diamonds[\"cut\"].value_counts().index"
      ],
      "execution_count": null,
      "outputs": [
        {
          "output_type": "execute_result",
          "data": {
            "text/plain": [
              "Index(['Ideal', 'Premium', 'Very Good', 'Good', 'Fair'], dtype='object')"
            ]
          },
          "metadata": {},
          "execution_count": 44
        }
      ]
    },
    {
      "cell_type": "code",
      "metadata": {
        "colab": {
          "base_uri": "https://localhost:8080/"
        },
        "id": "E7Wk65vDvq2s",
        "outputId": "d1e3be23-053f-490c-a989-e14b9ca3e8b6"
      },
      "source": [
        "diamonds[\"color\"].value_counts().index"
      ],
      "execution_count": null,
      "outputs": [
        {
          "output_type": "execute_result",
          "data": {
            "text/plain": [
              "Index(['G', 'E', 'F', 'H', 'D', 'I', 'J'], dtype='object')"
            ]
          },
          "metadata": {},
          "execution_count": 45
        }
      ]
    },
    {
      "cell_type": "code",
      "metadata": {
        "colab": {
          "base_uri": "https://localhost:8080/"
        },
        "id": "7Z3KTIpXy33b",
        "outputId": "3dbaba12-f1ea-4ff4-dac9-456c8a37298c"
      },
      "source": [
        "cat_attribs"
      ],
      "execution_count": null,
      "outputs": [
        {
          "output_type": "execute_result",
          "data": {
            "text/plain": [
              "['clarity', 'cut', 'color']"
            ]
          },
          "metadata": {},
          "execution_count": 68
        }
      ]
    },
    {
      "cell_type": "markdown",
      "metadata": {
        "id": "eyUruI2jy-Ce"
      },
      "source": [
        "*IMPORTANT*: make sure that the `ColumnTransformer` input and the category input are properly aligned, also make sure that `cat_attribs` is also properly ordered."
      ]
    },
    {
      "cell_type": "code",
      "metadata": {
        "id": "uUksx6QPw1zr"
      },
      "source": [
        "OEcats = [\n",
        "          ['IF', 'VVS1', 'VVS2', 'VS1', 'VS2', 'SI1', 'SI2', 'I1'],\n",
        "          ['Ideal', 'Premium', 'Very Good', 'Good', 'Fair'],\n",
        "          ['D', 'E', 'F', 'G', 'H', 'I', 'J']\n",
        "          ]"
      ],
      "execution_count": null,
      "outputs": []
    },
    {
      "cell_type": "code",
      "metadata": {
        "id": "DlzRJq6RTeOL"
      },
      "source": [
        "from sklearn.preprocessing import OrdinalEncoder\n",
        "from sklearn.pipeline import clone\n",
        "\n",
        "carat_num_pipeline2 = Pipeline([\n",
        "  ('volume_calc', VolumeCalculator(include_carat=True)),\n",
        "  ('std_scaler', StandardScaler()),\n",
        "]) # you need to instantiate a new one, idk why clone causes a missing column error\n",
        "\n",
        "full_pipeline_ordinal = ColumnTransformer([\n",
        "   (\"numerical\", carat_num_pipeline2, num_attribs),\n",
        "   (\"categorical\", OrdinalEncoder(categories=OEcats), cat_attribs)\n",
        " ])"
      ],
      "execution_count": null,
      "outputs": []
    },
    {
      "cell_type": "code",
      "metadata": {
        "colab": {
          "base_uri": "https://localhost:8080/"
        },
        "id": "QJNQzZPqVGx_",
        "outputId": "22aebb0a-2479-46e3-a8e1-df32a37e0e2b"
      },
      "source": [
        "ordinal_tree_reg = DecisionTreeRegressor()\n",
        "print(cat_attribs)\n",
        "print(train_set[:5])\n",
        "ordinal_prepped_train_set = full_pipeline_ordinal.fit_transform(train_set)\n",
        "print(ordinal_prepped_train_set[:5])\n",
        "\n",
        "\n",
        "ordinal_tree_reg.fit(ordinal_prepped_train_set, training_labels)\n",
        "\n",
        "ordinal_prepped_test_set = full_pipeline_ordinal.fit_transform(test_set)\n",
        "\n",
        "ordinal_tree_reg_predictions = ordinal_tree_reg.predict(ordinal_prepped_test_set)\n",
        "for i in range(10):\n",
        "  print(\"preictions\", ordinal_tree_reg_predictions[i], \"labels\", test_labels.to_numpy()[i])"
      ],
      "execution_count": null,
      "outputs": [
        {
          "output_type": "stream",
          "text": [
            "['clarity', 'cut', 'color']\n",
            "       carat        cut color clarity  depth  table  price     x     y     z\n",
            "26546   2.01       Good     F     SI2   58.1   64.0  16231  8.23  8.19  4.77\n",
            "9159    1.01  Very Good     E     SI2   60.0   60.0   4540  6.57  6.49  3.92\n",
            "14131   1.10    Premium     H     VS2   62.5   58.0   5729  6.59  6.54  4.10\n",
            "15757   1.50       Good     E     SI2   61.5   65.0   6300  7.21  7.17  4.42\n",
            "24632   1.52  Very Good     G     VS1   62.1   57.0  12968  7.27  7.32  4.53\n",
            "[[ 1.73820671  2.93386055 -2.55074762  2.20116456  6.          3.\n",
            "   2.        ]\n",
            " [ 0.5377332   1.13957453 -1.22042647  0.60460982  6.          2.\n",
            "   1.        ]\n",
            " [ 0.79195112  0.24243153  0.52999608  0.7482266   4.          1.\n",
            "   4.        ]\n",
            " [ 1.24389409  3.38243206 -0.17017294  1.38004987  6.          3.\n",
            "   1.        ]\n",
            " [ 1.39924948 -0.20613998  0.24992847  1.46055592  3.          2.\n",
            "   3.        ]]\n",
            "preictions 559.0 labels 559\n",
            "preictions 2214.0 labels 2201\n",
            "preictions 1215.0 labels 1238\n",
            "preictions 1274.0 labels 1304\n",
            "preictions 11428.0 labels 6901\n",
            "preictions 4118.0 labels 3011\n",
            "preictions 2138.0 labels 1765\n",
            "preictions 1701.0 labels 1679\n",
            "preictions 2513.0 labels 2102\n",
            "preictions 5818.0 labels 4789\n"
          ],
          "name": "stdout"
        }
      ]
    },
    {
      "cell_type": "code",
      "metadata": {
        "colab": {
          "base_uri": "https://localhost:8080/"
        },
        "id": "pJw_AnIvY906",
        "outputId": "1bc9e436-b3b9-4303-d535-4ca6f1a709b2"
      },
      "source": [
        "eval_model(ordinal_tree_reg, ordinal_prepped_train_set, training_labels, ordinal_prepped_test_set, test_labels)"
      ],
      "execution_count": null,
      "outputs": [
        {
          "output_type": "stream",
          "text": [
            "Predicitions:  559.0 2214.0 1215.0 1274.0 11428.0\n",
            "Labels:  559 2201 1238 1304 6901\n",
            "MSE:  558378.3706252832 , RMSE:  747.2471951270766 , MAE:  367.5573631195155\n",
            "RMSE Scores:  742.3356878870296 791.0550487272537 764.1360851725327 773.2170969736774 747.445982986691 759.5159627865404 807.8861418613793 736.597871471585 708.2289673459952 742.3663019633348\n",
            "Mean:  757.278514717602 , STD:  27.17341526410117\n"
          ],
          "name": "stdout"
        }
      ]
    },
    {
      "cell_type": "code",
      "metadata": {
        "colab": {
          "base_uri": "https://localhost:8080/"
        },
        "id": "j5quIvUxZjVK",
        "outputId": "e0b40b92-2493-4227-fcfa-957d8eb9b9ee"
      },
      "source": [
        "param_grid_ordinal = [\n",
        " {'n_estimators': [2, 4, 6], 'max_features': [2, 4, 6]},\n",
        " {'bootstrap': [False], 'n_estimators': [2, 4, 6], 'max_features': [2, 4, 6]},\n",
        " ]\n",
        "forest_reg_ordinal = RandomForestRegressor()\n",
        "grid_search_ordinal = GridSearchCV(forest_reg_ordinal, param_grid_ordinal, cv=5,\n",
        " scoring='neg_mean_squared_error',\n",
        "return_train_score=True)\n",
        "grid_search_ordinal.fit(ordinal_prepped_train_set, training_labels)"
      ],
      "execution_count": null,
      "outputs": [
        {
          "output_type": "execute_result",
          "data": {
            "text/plain": [
              "GridSearchCV(cv=5, error_score=nan,\n",
              "             estimator=RandomForestRegressor(bootstrap=True, ccp_alpha=0.0,\n",
              "                                             criterion='mse', max_depth=None,\n",
              "                                             max_features='auto',\n",
              "                                             max_leaf_nodes=None,\n",
              "                                             max_samples=None,\n",
              "                                             min_impurity_decrease=0.0,\n",
              "                                             min_impurity_split=None,\n",
              "                                             min_samples_leaf=1,\n",
              "                                             min_samples_split=2,\n",
              "                                             min_weight_fraction_leaf=0.0,\n",
              "                                             n_estimators=100, n_jobs=None,\n",
              "                                             oob_score=False, random_state=None,\n",
              "                                             verbose=0, warm_start=False),\n",
              "             iid='deprecated', n_jobs=None,\n",
              "             param_grid=[{'max_features': [2, 4, 6], 'n_estimators': [2, 4, 6]},\n",
              "                         {'bootstrap': [False], 'max_features': [2, 4, 6],\n",
              "                          'n_estimators': [2, 4, 6]}],\n",
              "             pre_dispatch='2*n_jobs', refit=True, return_train_score=True,\n",
              "             scoring='neg_mean_squared_error', verbose=0)"
            ]
          },
          "metadata": {},
          "execution_count": 74
        }
      ]
    },
    {
      "cell_type": "code",
      "metadata": {
        "colab": {
          "base_uri": "https://localhost:8080/"
        },
        "id": "p9GFbEhmanQ3",
        "outputId": "7830ef9a-adc5-42b0-fac1-b6608156278f"
      },
      "source": [
        "grid_search_ordinal.best_params_"
      ],
      "execution_count": null,
      "outputs": [
        {
          "output_type": "execute_result",
          "data": {
            "text/plain": [
              "{'max_features': 6, 'n_estimators': 6}"
            ]
          },
          "metadata": {},
          "execution_count": 75
        }
      ]
    },
    {
      "cell_type": "code",
      "metadata": {
        "colab": {
          "base_uri": "https://localhost:8080/"
        },
        "id": "kiD7U3fda1WM",
        "outputId": "dad58a53-d182-4b3c-f789-67d777b3ab70"
      },
      "source": [
        "cvres = grid_search_ordinal.cv_results_\n",
        "for mean_score, params in zip(cvres[\"mean_test_score\"], cvres[\"params\"]):\n",
        "  print(np.sqrt(-mean_score), params)"
      ],
      "execution_count": null,
      "outputs": [
        {
          "output_type": "stream",
          "text": [
            "770.2436345169675 {'max_features': 2, 'n_estimators': 2}\n",
            "701.4346065687472 {'max_features': 2, 'n_estimators': 4}\n",
            "656.4664113050089 {'max_features': 2, 'n_estimators': 6}\n",
            "704.4178079405059 {'max_features': 4, 'n_estimators': 2}\n",
            "644.4622137888906 {'max_features': 4, 'n_estimators': 4}\n",
            "617.0123016479241 {'max_features': 4, 'n_estimators': 6}\n",
            "694.9465679481036 {'max_features': 6, 'n_estimators': 2}\n",
            "638.0013313672592 {'max_features': 6, 'n_estimators': 4}\n",
            "609.4819143101602 {'max_features': 6, 'n_estimators': 6}\n",
            "748.3175322032738 {'bootstrap': False, 'max_features': 2, 'n_estimators': 2}\n",
            "670.2196793957178 {'bootstrap': False, 'max_features': 2, 'n_estimators': 4}\n",
            "653.6088430396702 {'bootstrap': False, 'max_features': 2, 'n_estimators': 6}\n",
            "686.4837043809276 {'bootstrap': False, 'max_features': 4, 'n_estimators': 2}\n",
            "641.5115843757428 {'bootstrap': False, 'max_features': 4, 'n_estimators': 4}\n",
            "623.3641170071476 {'bootstrap': False, 'max_features': 4, 'n_estimators': 6}\n",
            "705.8300478018388 {'bootstrap': False, 'max_features': 6, 'n_estimators': 2}\n",
            "659.8745046726551 {'bootstrap': False, 'max_features': 6, 'n_estimators': 4}\n",
            "652.02848751302 {'bootstrap': False, 'max_features': 6, 'n_estimators': 6}\n"
          ],
          "name": "stdout"
        }
      ]
    },
    {
      "cell_type": "code",
      "metadata": {
        "colab": {
          "base_uri": "https://localhost:8080/"
        },
        "id": "gVgGJs5Ra6n9",
        "outputId": "345114fa-7aca-41e8-e365-3ad593faaffd"
      },
      "source": [
        "eval_model(grid_search_ordinal.best_estimator_, ordinal_prepped_train_set, training_labels, ordinal_prepped_test_set, test_labels)"
      ],
      "execution_count": null,
      "outputs": [
        {
          "output_type": "stream",
          "text": [
            "Predicitions:  559.0 2389.1666666666665 1158.5 1233.5555555555554 10691.333333333334\n",
            "Labels:  559 2201 1238 1304 6901\n",
            "MSE:  352857.4991421439 , RMSE:  594.0180966453328 , MAE:  304.833915113514\n",
            "RMSE Scores:  614.652952112144 617.2732961594268 647.6306730374035 614.8735696151654 583.6786537397412 599.0459233665636 622.4082654586098 594.3630350131871 590.1588105275986 588.4711655180611\n",
            "Mean:  607.2556344547901 , STD:  18.72832858353717\n"
          ],
          "name": "stdout"
        }
      ]
    },
    {
      "cell_type": "markdown",
      "metadata": {
        "id": "vnNl6ajQzugn"
      },
      "source": [
        "it still sucks for some reason \n"
      ]
    }
  ]
}